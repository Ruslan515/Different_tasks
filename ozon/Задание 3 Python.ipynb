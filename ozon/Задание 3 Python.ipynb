{
 "cells": [
  {
   "cell_type": "code",
   "execution_count": 1,
   "id": "366ed3a7",
   "metadata": {},
   "outputs": [],
   "source": [
    "import pandas as pd\n",
    "import numpy as np\n",
    "from datetime import datetime\n",
    "from matplotlib import pyplot as plt\n",
    "import seaborn as sns\n",
    "%matplotlib inline"
   ]
  },
  {
   "cell_type": "markdown",
   "id": "1e867c4d",
   "metadata": {},
   "source": [
    "### 1. Подрузите данные и полюбуйтесь.  Выведите первые 10 строк. "
   ]
  },
  {
   "cell_type": "code",
   "execution_count": 2,
   "id": "e0b8c40b",
   "metadata": {},
   "outputs": [
    {
     "data": {
      "text/html": [
       "<div>\n",
       "<style scoped>\n",
       "    .dataframe tbody tr th:only-of-type {\n",
       "        vertical-align: middle;\n",
       "    }\n",
       "\n",
       "    .dataframe tbody tr th {\n",
       "        vertical-align: top;\n",
       "    }\n",
       "\n",
       "    .dataframe thead th {\n",
       "        text-align: right;\n",
       "    }\n",
       "</style>\n",
       "<table border=\"1\" class=\"dataframe\">\n",
       "  <thead>\n",
       "    <tr style=\"text-align: right;\">\n",
       "      <th></th>\n",
       "      <th>uid</th>\n",
       "      <th>first_visit</th>\n",
       "      <th>order_date</th>\n",
       "      <th>revenue</th>\n",
       "      <th>count</th>\n",
       "      <th>user_browser</th>\n",
       "    </tr>\n",
       "    <tr>\n",
       "      <th>#</th>\n",
       "      <th></th>\n",
       "      <th></th>\n",
       "      <th></th>\n",
       "      <th></th>\n",
       "      <th></th>\n",
       "      <th></th>\n",
       "    </tr>\n",
       "  </thead>\n",
       "  <tbody>\n",
       "    <tr>\n",
       "      <th>1</th>\n",
       "      <td>6003595</td>\n",
       "      <td>27.11.2020 10:29</td>\n",
       "      <td>07.12.2020</td>\n",
       "      <td>?219,00</td>\n",
       "      <td>1</td>\n",
       "      <td>edge</td>\n",
       "    </tr>\n",
       "    <tr>\n",
       "      <th>2</th>\n",
       "      <td>115095095</td>\n",
       "      <td>06.12.2020 11:37</td>\n",
       "      <td>06.12.2020</td>\n",
       "      <td>?1 990,00</td>\n",
       "      <td>1</td>\n",
       "      <td>chrome</td>\n",
       "    </tr>\n",
       "    <tr>\n",
       "      <th>3</th>\n",
       "      <td>144829298</td>\n",
       "      <td>06.12.2020 13:22</td>\n",
       "      <td>06.12.2020</td>\n",
       "      <td>?3 199,00</td>\n",
       "      <td>1</td>\n",
       "      <td>safari</td>\n",
       "    </tr>\n",
       "    <tr>\n",
       "      <th>4</th>\n",
       "      <td>53767165</td>\n",
       "      <td>22.09.2020 11:37</td>\n",
       "      <td>01.12.2020</td>\n",
       "      <td>?24 083,00</td>\n",
       "      <td>7</td>\n",
       "      <td>chrome</td>\n",
       "    </tr>\n",
       "    <tr>\n",
       "      <th>5</th>\n",
       "      <td>2188103</td>\n",
       "      <td>05.12.2020 21:19</td>\n",
       "      <td>06.12.2020</td>\n",
       "      <td>?1 484,91</td>\n",
       "      <td>6</td>\n",
       "      <td>chrome</td>\n",
       "    </tr>\n",
       "    <tr>\n",
       "      <th>6</th>\n",
       "      <td>83736155</td>\n",
       "      <td>10.09.2020 13:55</td>\n",
       "      <td>07.12.2020</td>\n",
       "      <td>?1 299,00</td>\n",
       "      <td>1</td>\n",
       "      <td>yandex browser</td>\n",
       "    </tr>\n",
       "    <tr>\n",
       "      <th>7</th>\n",
       "      <td>16415498</td>\n",
       "      <td>30.09.2020 6:16</td>\n",
       "      <td>07.12.2020</td>\n",
       "      <td>?1 595,00</td>\n",
       "      <td>2</td>\n",
       "      <td>chrome</td>\n",
       "    </tr>\n",
       "    <tr>\n",
       "      <th>8</th>\n",
       "      <td>79759104</td>\n",
       "      <td>13.10.2020 17:23</td>\n",
       "      <td>02.12.2020</td>\n",
       "      <td>?61,90</td>\n",
       "      <td>1</td>\n",
       "      <td>chrome</td>\n",
       "    </tr>\n",
       "    <tr>\n",
       "      <th>9</th>\n",
       "      <td>13350715</td>\n",
       "      <td>28.11.2020 18:30</td>\n",
       "      <td>30.11.2020</td>\n",
       "      <td>?12 888,00</td>\n",
       "      <td>33</td>\n",
       "      <td>safari</td>\n",
       "    </tr>\n",
       "    <tr>\n",
       "      <th>10</th>\n",
       "      <td>104831270</td>\n",
       "      <td>29.11.2020 14:04</td>\n",
       "      <td>01.12.2020</td>\n",
       "      <td>?3 424,00</td>\n",
       "      <td>12</td>\n",
       "      <td>yandex browser</td>\n",
       "    </tr>\n",
       "  </tbody>\n",
       "</table>\n",
       "</div>"
      ],
      "text/plain": [
       "          uid       first_visit  order_date      revenue   count  \\\n",
       "#                                                                  \n",
       "1     6003595  27.11.2020 10:29  07.12.2020      ?219,00       1   \n",
       "2   115095095  06.12.2020 11:37  06.12.2020    ?1 990,00       1   \n",
       "3   144829298  06.12.2020 13:22  06.12.2020    ?3 199,00       1   \n",
       "4    53767165  22.09.2020 11:37  01.12.2020   ?24 083,00       7   \n",
       "5     2188103  05.12.2020 21:19  06.12.2020    ?1 484,91       6   \n",
       "6    83736155  10.09.2020 13:55  07.12.2020    ?1 299,00       1   \n",
       "7    16415498   30.09.2020 6:16  07.12.2020    ?1 595,00       2   \n",
       "8    79759104  13.10.2020 17:23  02.12.2020       ?61,90       1   \n",
       "9    13350715  28.11.2020 18:30  30.11.2020   ?12 888,00      33   \n",
       "10  104831270  29.11.2020 14:04  01.12.2020    ?3 424,00      12   \n",
       "\n",
       "      user_browser  \n",
       "#                   \n",
       "1             edge  \n",
       "2           chrome  \n",
       "3           safari  \n",
       "4           chrome  \n",
       "5           chrome  \n",
       "6   yandex browser  \n",
       "7           chrome  \n",
       "8           chrome  \n",
       "9           safari  \n",
       "10  yandex browser  "
      ]
     },
     "execution_count": 2,
     "metadata": {},
     "output_type": "execute_result"
    }
   ],
   "source": [
    "df = pd.read_csv(\"data_for_test.csv\", sep = \";\", index_col=0)\n",
    "df.head(10)"
   ]
  },
  {
   "cell_type": "code",
   "execution_count": 3,
   "id": "91cad1f9",
   "metadata": {},
   "outputs": [
    {
     "name": "stdout",
     "output_type": "stream",
     "text": [
      "<class 'pandas.core.frame.DataFrame'>\n",
      "Int64Index: 422246 entries, 1 to 422246\n",
      "Data columns (total 6 columns):\n",
      " #   Column        Non-Null Count   Dtype \n",
      "---  ------        --------------   ----- \n",
      " 0   uid           422246 non-null  int64 \n",
      " 1   first_visit   422246 non-null  object\n",
      " 2   order_date    422246 non-null  object\n",
      " 3    revenue      422246 non-null  object\n",
      " 4   count         422246 non-null  int64 \n",
      " 5   user_browser  422246 non-null  object\n",
      "dtypes: int64(2), object(4)\n",
      "memory usage: 22.6+ MB\n"
     ]
    }
   ],
   "source": [
    "df.info()"
   ]
  },
  {
   "cell_type": "markdown",
   "id": "1b2d75ed",
   "metadata": {},
   "source": [
    "##### пропуски отсутствуют. есть только не соот-е типов в столбцах с датами"
   ]
  },
  {
   "cell_type": "markdown",
   "id": "0aa66ea5",
   "metadata": {},
   "source": [
    "### 2. Посмотрите на данные. Все ли с ними в порядке? Преобразуйте нужные столбцы в удобный вид.\n",
    "### - сделайте для всех дат тип date\n",
    "### - очистите столбец с выручкой от лишних символов"
   ]
  },
  {
   "cell_type": "code",
   "execution_count": 4,
   "id": "12b322c4",
   "metadata": {},
   "outputs": [],
   "source": [
    "# по заданию нам не нужна столь подробная детализация времени посещения. оставим только дни\n",
    "df[\"first_visit\"] = (pd.to_datetime(\n",
    "    pd.to_datetime(df[\"first_visit\"], format=\"%d.%m.%Y %H:%M\").dt.strftime(\"%Y-%m-%d\")\n",
    "))"
   ]
  },
  {
   "cell_type": "code",
   "execution_count": 5,
   "id": "97c2567f",
   "metadata": {},
   "outputs": [],
   "source": [
    "df[\"order_date\"] = pd.to_datetime(df[\"order_date\"], format=\"%d.%m.%Y\")"
   ]
  },
  {
   "cell_type": "code",
   "execution_count": 6,
   "id": "87f5cb46",
   "metadata": {},
   "outputs": [
    {
     "name": "stdout",
     "output_type": "stream",
     "text": [
      "<class 'pandas.core.frame.DataFrame'>\n",
      "Int64Index: 422246 entries, 1 to 422246\n",
      "Data columns (total 6 columns):\n",
      " #   Column        Non-Null Count   Dtype         \n",
      "---  ------        --------------   -----         \n",
      " 0   uid           422246 non-null  int64         \n",
      " 1   first_visit   422246 non-null  datetime64[ns]\n",
      " 2   order_date    422246 non-null  datetime64[ns]\n",
      " 3    revenue      422246 non-null  object        \n",
      " 4   count         422246 non-null  int64         \n",
      " 5   user_browser  422246 non-null  object        \n",
      "dtypes: datetime64[ns](2), int64(2), object(2)\n",
      "memory usage: 22.6+ MB\n"
     ]
    }
   ],
   "source": [
    "df.info()"
   ]
  },
  {
   "cell_type": "code",
   "execution_count": 7,
   "id": "dbc8a8d9",
   "metadata": {},
   "outputs": [
    {
     "data": {
      "text/html": [
       "<div>\n",
       "<style scoped>\n",
       "    .dataframe tbody tr th:only-of-type {\n",
       "        vertical-align: middle;\n",
       "    }\n",
       "\n",
       "    .dataframe tbody tr th {\n",
       "        vertical-align: top;\n",
       "    }\n",
       "\n",
       "    .dataframe thead th {\n",
       "        text-align: right;\n",
       "    }\n",
       "</style>\n",
       "<table border=\"1\" class=\"dataframe\">\n",
       "  <thead>\n",
       "    <tr style=\"text-align: right;\">\n",
       "      <th></th>\n",
       "      <th>uid</th>\n",
       "      <th>first_visit</th>\n",
       "      <th>order_date</th>\n",
       "      <th>revenue</th>\n",
       "      <th>count</th>\n",
       "      <th>user_browser</th>\n",
       "    </tr>\n",
       "    <tr>\n",
       "      <th>#</th>\n",
       "      <th></th>\n",
       "      <th></th>\n",
       "      <th></th>\n",
       "      <th></th>\n",
       "      <th></th>\n",
       "      <th></th>\n",
       "    </tr>\n",
       "  </thead>\n",
       "  <tbody>\n",
       "    <tr>\n",
       "      <th>1</th>\n",
       "      <td>6003595</td>\n",
       "      <td>2020-11-27</td>\n",
       "      <td>2020-12-07</td>\n",
       "      <td>?219,00</td>\n",
       "      <td>1</td>\n",
       "      <td>edge</td>\n",
       "    </tr>\n",
       "    <tr>\n",
       "      <th>2</th>\n",
       "      <td>115095095</td>\n",
       "      <td>2020-12-06</td>\n",
       "      <td>2020-12-06</td>\n",
       "      <td>?1 990,00</td>\n",
       "      <td>1</td>\n",
       "      <td>chrome</td>\n",
       "    </tr>\n",
       "    <tr>\n",
       "      <th>3</th>\n",
       "      <td>144829298</td>\n",
       "      <td>2020-12-06</td>\n",
       "      <td>2020-12-06</td>\n",
       "      <td>?3 199,00</td>\n",
       "      <td>1</td>\n",
       "      <td>safari</td>\n",
       "    </tr>\n",
       "    <tr>\n",
       "      <th>4</th>\n",
       "      <td>53767165</td>\n",
       "      <td>2020-09-22</td>\n",
       "      <td>2020-12-01</td>\n",
       "      <td>?24 083,00</td>\n",
       "      <td>7</td>\n",
       "      <td>chrome</td>\n",
       "    </tr>\n",
       "    <tr>\n",
       "      <th>5</th>\n",
       "      <td>2188103</td>\n",
       "      <td>2020-12-05</td>\n",
       "      <td>2020-12-06</td>\n",
       "      <td>?1 484,91</td>\n",
       "      <td>6</td>\n",
       "      <td>chrome</td>\n",
       "    </tr>\n",
       "  </tbody>\n",
       "</table>\n",
       "</div>"
      ],
      "text/plain": [
       "         uid first_visit order_date      revenue   count user_browser\n",
       "#                                                                    \n",
       "1    6003595  2020-11-27 2020-12-07      ?219,00       1         edge\n",
       "2  115095095  2020-12-06 2020-12-06    ?1 990,00       1       chrome\n",
       "3  144829298  2020-12-06 2020-12-06    ?3 199,00       1       safari\n",
       "4   53767165  2020-09-22 2020-12-01   ?24 083,00       7       chrome\n",
       "5    2188103  2020-12-05 2020-12-06    ?1 484,91       6       chrome"
      ]
     },
     "execution_count": 7,
     "metadata": {},
     "output_type": "execute_result"
    }
   ],
   "source": [
    "df.head()"
   ]
  },
  {
   "cell_type": "markdown",
   "id": "7397635c",
   "metadata": {},
   "source": [
    "#### можно сразу при считывании файла использовать parse_dates = [\"first_visit\", \"order_date\"]"
   ]
  },
  {
   "cell_type": "code",
   "execution_count": 8,
   "id": "efa57822",
   "metadata": {},
   "outputs": [
    {
     "name": "stdout",
     "output_type": "stream",
     "text": [
      "<class 'pandas.core.frame.DataFrame'>\n",
      "Int64Index: 422246 entries, 1 to 422246\n",
      "Data columns (total 6 columns):\n",
      " #   Column        Non-Null Count   Dtype         \n",
      "---  ------        --------------   -----         \n",
      " 0   uid           422246 non-null  int64         \n",
      " 1   first_visit   422246 non-null  datetime64[ns]\n",
      " 2   order_date    422246 non-null  datetime64[ns]\n",
      " 3   revenue       422246 non-null  object        \n",
      " 4   count         422246 non-null  int64         \n",
      " 5   user_browser  422246 non-null  object        \n",
      "dtypes: datetime64[ns](2), int64(2), object(2)\n",
      "memory usage: 22.6+ MB\n"
     ]
    }
   ],
   "source": [
    "cols = df.columns.to_list()\n",
    "df.rename(columns={cols[3]: cols[3].replace(\" \", \"\")}, inplace=True)\n",
    "df.info()"
   ]
  },
  {
   "cell_type": "code",
   "execution_count": 9,
   "id": "a03cbfa6",
   "metadata": {},
   "outputs": [
    {
     "data": {
      "text/plain": [
       "array([' ?219,00 ', ' ?1 990,00 ', ' ?3 199,00 ', ..., ' ?1 597,00 ',\n",
       "       ' ?5 104,00 ', ' ?10 586,00 '], dtype=object)"
      ]
     },
     "execution_count": 9,
     "metadata": {},
     "output_type": "execute_result"
    }
   ],
   "source": [
    "df[\"revenue\"].unique()"
   ]
  },
  {
   "cell_type": "code",
   "execution_count": 10,
   "id": "f5b8530f",
   "metadata": {},
   "outputs": [
    {
     "data": {
      "text/plain": [
       " ?-            15530\n",
       " ?1 015,00      4755\n",
       " ?1 718,11      4610\n",
       " ?610,00        3604\n",
       " ?1 242,00      3541\n",
       "               ...  \n",
       " ?8 244,00         1\n",
       " ?6 557,00         1\n",
       " ?9 095,00         1\n",
       " ?5 253,00         1\n",
       " ?8 127,00         1\n",
       "Name: revenue, Length: 5354, dtype: int64"
      ]
     },
     "execution_count": 10,
     "metadata": {},
     "output_type": "execute_result"
    }
   ],
   "source": [
    "df.revenue.value_counts()"
   ]
  },
  {
   "cell_type": "markdown",
   "id": "24753ff1",
   "metadata": {},
   "source": [
    "### видим, что почти в 15К записей в поле выручка проставлен символ \"-\". его можно считать как пропуск. для начала взглянем на эти записи, затем преобразуем в тип float"
   ]
  },
  {
   "cell_type": "code",
   "execution_count": 11,
   "id": "fff8f6fd",
   "metadata": {},
   "outputs": [
    {
     "data": {
      "text/html": [
       "<div>\n",
       "<style scoped>\n",
       "    .dataframe tbody tr th:only-of-type {\n",
       "        vertical-align: middle;\n",
       "    }\n",
       "\n",
       "    .dataframe tbody tr th {\n",
       "        vertical-align: top;\n",
       "    }\n",
       "\n",
       "    .dataframe thead th {\n",
       "        text-align: right;\n",
       "    }\n",
       "</style>\n",
       "<table border=\"1\" class=\"dataframe\">\n",
       "  <thead>\n",
       "    <tr style=\"text-align: right;\">\n",
       "      <th></th>\n",
       "      <th>uid</th>\n",
       "      <th>first_visit</th>\n",
       "      <th>order_date</th>\n",
       "      <th>revenue</th>\n",
       "      <th>count</th>\n",
       "      <th>user_browser</th>\n",
       "    </tr>\n",
       "    <tr>\n",
       "      <th>#</th>\n",
       "      <th></th>\n",
       "      <th></th>\n",
       "      <th></th>\n",
       "      <th></th>\n",
       "      <th></th>\n",
       "      <th></th>\n",
       "    </tr>\n",
       "  </thead>\n",
       "  <tbody>\n",
       "    <tr>\n",
       "      <th>11</th>\n",
       "      <td>79036816</td>\n",
       "      <td>2020-09-11</td>\n",
       "      <td>2020-12-04</td>\n",
       "      <td>?-</td>\n",
       "      <td>1</td>\n",
       "      <td>chrome</td>\n",
       "    </tr>\n",
       "    <tr>\n",
       "      <th>106</th>\n",
       "      <td>19991870</td>\n",
       "      <td>2020-09-19</td>\n",
       "      <td>2020-11-30</td>\n",
       "      <td>?-</td>\n",
       "      <td>3</td>\n",
       "      <td>yandex browser</td>\n",
       "    </tr>\n",
       "    <tr>\n",
       "      <th>114</th>\n",
       "      <td>169483894</td>\n",
       "      <td>2020-09-29</td>\n",
       "      <td>2020-12-01</td>\n",
       "      <td>?-</td>\n",
       "      <td>1</td>\n",
       "      <td>chrome</td>\n",
       "    </tr>\n",
       "    <tr>\n",
       "      <th>120</th>\n",
       "      <td>49992434</td>\n",
       "      <td>2020-10-15</td>\n",
       "      <td>2020-12-01</td>\n",
       "      <td>?-</td>\n",
       "      <td>3</td>\n",
       "      <td>safari</td>\n",
       "    </tr>\n",
       "    <tr>\n",
       "      <th>125</th>\n",
       "      <td>29675689</td>\n",
       "      <td>2020-11-08</td>\n",
       "      <td>2020-12-07</td>\n",
       "      <td>?-</td>\n",
       "      <td>1</td>\n",
       "      <td>chrome</td>\n",
       "    </tr>\n",
       "    <tr>\n",
       "      <th>...</th>\n",
       "      <td>...</td>\n",
       "      <td>...</td>\n",
       "      <td>...</td>\n",
       "      <td>...</td>\n",
       "      <td>...</td>\n",
       "      <td>...</td>\n",
       "    </tr>\n",
       "    <tr>\n",
       "      <th>422052</th>\n",
       "      <td>11027110</td>\n",
       "      <td>2020-12-06</td>\n",
       "      <td>2020-12-06</td>\n",
       "      <td>?-</td>\n",
       "      <td>1</td>\n",
       "      <td>edge</td>\n",
       "    </tr>\n",
       "    <tr>\n",
       "      <th>422066</th>\n",
       "      <td>79036816</td>\n",
       "      <td>2020-09-16</td>\n",
       "      <td>2020-12-07</td>\n",
       "      <td>?-</td>\n",
       "      <td>1</td>\n",
       "      <td>chrome</td>\n",
       "    </tr>\n",
       "    <tr>\n",
       "      <th>422073</th>\n",
       "      <td>49992434</td>\n",
       "      <td>2020-09-19</td>\n",
       "      <td>2020-12-01</td>\n",
       "      <td>?-</td>\n",
       "      <td>3</td>\n",
       "      <td>safari</td>\n",
       "    </tr>\n",
       "    <tr>\n",
       "      <th>422125</th>\n",
       "      <td>66106122</td>\n",
       "      <td>2020-09-16</td>\n",
       "      <td>2020-11-30</td>\n",
       "      <td>?-</td>\n",
       "      <td>3</td>\n",
       "      <td>chrome</td>\n",
       "    </tr>\n",
       "    <tr>\n",
       "      <th>422171</th>\n",
       "      <td>130147029</td>\n",
       "      <td>2020-11-21</td>\n",
       "      <td>2020-12-06</td>\n",
       "      <td>?-</td>\n",
       "      <td>1</td>\n",
       "      <td>chrome</td>\n",
       "    </tr>\n",
       "  </tbody>\n",
       "</table>\n",
       "<p>15530 rows × 6 columns</p>\n",
       "</div>"
      ],
      "text/plain": [
       "              uid first_visit order_date revenue  count    user_browser\n",
       "#                                                                      \n",
       "11       79036816  2020-09-11 2020-12-04   ?-         1          chrome\n",
       "106      19991870  2020-09-19 2020-11-30   ?-         3  yandex browser\n",
       "114     169483894  2020-09-29 2020-12-01   ?-         1          chrome\n",
       "120      49992434  2020-10-15 2020-12-01   ?-         3          safari\n",
       "125      29675689  2020-11-08 2020-12-07   ?-         1          chrome\n",
       "...           ...         ...        ...     ...    ...             ...\n",
       "422052   11027110  2020-12-06 2020-12-06   ?-         1            edge\n",
       "422066   79036816  2020-09-16 2020-12-07   ?-         1          chrome\n",
       "422073   49992434  2020-09-19 2020-12-01   ?-         3          safari\n",
       "422125   66106122  2020-09-16 2020-11-30   ?-         3          chrome\n",
       "422171  130147029  2020-11-21 2020-12-06   ?-         1          chrome\n",
       "\n",
       "[15530 rows x 6 columns]"
      ]
     },
     "execution_count": 11,
     "metadata": {},
     "output_type": "execute_result"
    }
   ],
   "source": [
    "mask = df.revenue.str.contains(\"-\")\n",
    "df[mask]"
   ]
  },
  {
   "cell_type": "code",
   "execution_count": 12,
   "id": "2f244bca",
   "metadata": {},
   "outputs": [
    {
     "name": "stderr",
     "output_type": "stream",
     "text": [
      "<ipython-input-12-925a806726c2>:2: FutureWarning: The default value of regex will change from True to False in a future version. In addition, single character regular expressions will*not* be treated as literal strings when regex=True.\n",
      "  df[\"revenue\"] = df[\"revenue\"].str.replace(\"?\", \"\")\n"
     ]
    }
   ],
   "source": [
    "# замена всех лишних символов\n",
    "df[\"revenue\"] = df[\"revenue\"].str.replace(\"?\", \"\")\n",
    "df[\"revenue\"] = df[\"revenue\"].str.replace(\" \", \"\")\n",
    "df[\"revenue\"] = df[\"revenue\"].str.replace(\",\", \".\")\n",
    "df[\"revenue\"] = df[\"revenue\"].str.replace(\"-\", \"\")"
   ]
  },
  {
   "cell_type": "code",
   "execution_count": 13,
   "id": "e44dd95d",
   "metadata": {},
   "outputs": [],
   "source": [
    "df[\"revenue\"] = df[\"revenue\"].apply(lambda x: np.NAN if x == \"\" else float(x))"
   ]
  },
  {
   "cell_type": "code",
   "execution_count": 14,
   "id": "ec7f0d2b",
   "metadata": {},
   "outputs": [
    {
     "name": "stdout",
     "output_type": "stream",
     "text": [
      "<class 'pandas.core.frame.DataFrame'>\n",
      "Int64Index: 422246 entries, 1 to 422246\n",
      "Data columns (total 6 columns):\n",
      " #   Column        Non-Null Count   Dtype         \n",
      "---  ------        --------------   -----         \n",
      " 0   uid           422246 non-null  int64         \n",
      " 1   first_visit   422246 non-null  datetime64[ns]\n",
      " 2   order_date    422246 non-null  datetime64[ns]\n",
      " 3   revenue       406716 non-null  float64       \n",
      " 4   count         422246 non-null  int64         \n",
      " 5   user_browser  422246 non-null  object        \n",
      "dtypes: datetime64[ns](2), float64(1), int64(2), object(1)\n",
      "memory usage: 22.6+ MB\n"
     ]
    }
   ],
   "source": [
    "df.info()"
   ]
  },
  {
   "cell_type": "markdown",
   "id": "2ca3fa12",
   "metadata": {},
   "source": [
    "### 3.   Для ответа на каждый вопрос постарайтесь построить несколько визуализаций, которые его проиллюстрирует. "
   ]
  },
  {
   "cell_type": "markdown",
   "id": "3f3007ff",
   "metadata": {},
   "source": [
    "#### 3.1 Простройте распределение заказов по дням. В какой из дней было совершено больше всего заказов?"
   ]
  },
  {
   "cell_type": "code",
   "execution_count": 15,
   "id": "07181922",
   "metadata": {},
   "outputs": [
    {
     "name": "stdout",
     "output_type": "stream",
     "text": [
      "<class 'pandas.core.frame.DataFrame'>\n",
      "Int64Index: 422246 entries, 1 to 422246\n",
      "Data columns (total 6 columns):\n",
      " #   Column        Non-Null Count   Dtype         \n",
      "---  ------        --------------   -----         \n",
      " 0   uid           422246 non-null  int64         \n",
      " 1   first_visit   422246 non-null  datetime64[ns]\n",
      " 2   order_date    422246 non-null  datetime64[ns]\n",
      " 3   revenue       406716 non-null  float64       \n",
      " 4   count         422246 non-null  int64         \n",
      " 5   user_browser  422246 non-null  object        \n",
      "dtypes: datetime64[ns](2), float64(1), int64(2), object(1)\n",
      "memory usage: 22.6+ MB\n"
     ]
    }
   ],
   "source": [
    "df.info()"
   ]
  },
  {
   "cell_type": "code",
   "execution_count": 16,
   "id": "035da6a6",
   "metadata": {},
   "outputs": [
    {
     "data": {
      "text/html": [
       "<div>\n",
       "<style scoped>\n",
       "    .dataframe tbody tr th:only-of-type {\n",
       "        vertical-align: middle;\n",
       "    }\n",
       "\n",
       "    .dataframe tbody tr th {\n",
       "        vertical-align: top;\n",
       "    }\n",
       "\n",
       "    .dataframe thead th {\n",
       "        text-align: right;\n",
       "    }\n",
       "</style>\n",
       "<table border=\"1\" class=\"dataframe\">\n",
       "  <thead>\n",
       "    <tr style=\"text-align: right;\">\n",
       "      <th></th>\n",
       "      <th>uid</th>\n",
       "      <th>revenue</th>\n",
       "      <th>count</th>\n",
       "    </tr>\n",
       "  </thead>\n",
       "  <tbody>\n",
       "    <tr>\n",
       "      <th>count</th>\n",
       "      <td>4.222460e+05</td>\n",
       "      <td>406716.000000</td>\n",
       "      <td>422246.000000</td>\n",
       "    </tr>\n",
       "    <tr>\n",
       "      <th>mean</th>\n",
       "      <td>9.576970e+07</td>\n",
       "      <td>4132.153716</td>\n",
       "      <td>4.010406</td>\n",
       "    </tr>\n",
       "    <tr>\n",
       "      <th>std</th>\n",
       "      <td>5.416504e+07</td>\n",
       "      <td>13701.975860</td>\n",
       "      <td>5.963956</td>\n",
       "    </tr>\n",
       "    <tr>\n",
       "      <th>min</th>\n",
       "      <td>3.878000e+03</td>\n",
       "      <td>0.840000</td>\n",
       "      <td>1.000000</td>\n",
       "    </tr>\n",
       "    <tr>\n",
       "      <th>25%</th>\n",
       "      <td>5.019759e+07</td>\n",
       "      <td>896.000000</td>\n",
       "      <td>1.000000</td>\n",
       "    </tr>\n",
       "    <tr>\n",
       "      <th>50%</th>\n",
       "      <td>9.331345e+07</td>\n",
       "      <td>1720.000000</td>\n",
       "      <td>2.000000</td>\n",
       "    </tr>\n",
       "    <tr>\n",
       "      <th>75%</th>\n",
       "      <td>1.448102e+08</td>\n",
       "      <td>3946.000000</td>\n",
       "      <td>4.000000</td>\n",
       "    </tr>\n",
       "    <tr>\n",
       "      <th>max</th>\n",
       "      <td>1.844562e+08</td>\n",
       "      <td>731400.000000</td>\n",
       "      <td>180.000000</td>\n",
       "    </tr>\n",
       "  </tbody>\n",
       "</table>\n",
       "</div>"
      ],
      "text/plain": [
       "                uid        revenue          count\n",
       "count  4.222460e+05  406716.000000  422246.000000\n",
       "mean   9.576970e+07    4132.153716       4.010406\n",
       "std    5.416504e+07   13701.975860       5.963956\n",
       "min    3.878000e+03       0.840000       1.000000\n",
       "25%    5.019759e+07     896.000000       1.000000\n",
       "50%    9.331345e+07    1720.000000       2.000000\n",
       "75%    1.448102e+08    3946.000000       4.000000\n",
       "max    1.844562e+08  731400.000000     180.000000"
      ]
     },
     "execution_count": 16,
     "metadata": {},
     "output_type": "execute_result"
    }
   ],
   "source": [
    "df.describe()"
   ]
  },
  {
   "cell_type": "code",
   "execution_count": 17,
   "id": "a6abc052",
   "metadata": {},
   "outputs": [
    {
     "data": {
      "text/html": [
       "<div>\n",
       "<style scoped>\n",
       "    .dataframe tbody tr th:only-of-type {\n",
       "        vertical-align: middle;\n",
       "    }\n",
       "\n",
       "    .dataframe tbody tr th {\n",
       "        vertical-align: top;\n",
       "    }\n",
       "\n",
       "    .dataframe thead th {\n",
       "        text-align: right;\n",
       "    }\n",
       "</style>\n",
       "<table border=\"1\" class=\"dataframe\">\n",
       "  <thead>\n",
       "    <tr style=\"text-align: right;\">\n",
       "      <th></th>\n",
       "      <th>user_browser</th>\n",
       "    </tr>\n",
       "  </thead>\n",
       "  <tbody>\n",
       "    <tr>\n",
       "      <th>count</th>\n",
       "      <td>422246</td>\n",
       "    </tr>\n",
       "    <tr>\n",
       "      <th>unique</th>\n",
       "      <td>27</td>\n",
       "    </tr>\n",
       "    <tr>\n",
       "      <th>top</th>\n",
       "      <td>chrome</td>\n",
       "    </tr>\n",
       "    <tr>\n",
       "      <th>freq</th>\n",
       "      <td>228603</td>\n",
       "    </tr>\n",
       "  </tbody>\n",
       "</table>\n",
       "</div>"
      ],
      "text/plain": [
       "       user_browser\n",
       "count        422246\n",
       "unique           27\n",
       "top          chrome\n",
       "freq         228603"
      ]
     },
     "execution_count": 17,
     "metadata": {},
     "output_type": "execute_result"
    }
   ],
   "source": [
    "df.describe(include=\"object\")"
   ]
  },
  {
   "cell_type": "code",
   "execution_count": 18,
   "id": "076c1f55",
   "metadata": {},
   "outputs": [
    {
     "data": {
      "text/html": [
       "<div>\n",
       "<style scoped>\n",
       "    .dataframe tbody tr th:only-of-type {\n",
       "        vertical-align: middle;\n",
       "    }\n",
       "\n",
       "    .dataframe tbody tr th {\n",
       "        vertical-align: top;\n",
       "    }\n",
       "\n",
       "    .dataframe thead th {\n",
       "        text-align: right;\n",
       "    }\n",
       "</style>\n",
       "<table border=\"1\" class=\"dataframe\">\n",
       "  <thead>\n",
       "    <tr style=\"text-align: right;\">\n",
       "      <th></th>\n",
       "      <th>uid</th>\n",
       "      <th>first_visit</th>\n",
       "      <th>order_date</th>\n",
       "      <th>revenue</th>\n",
       "      <th>count</th>\n",
       "      <th>user_browser</th>\n",
       "    </tr>\n",
       "    <tr>\n",
       "      <th>#</th>\n",
       "      <th></th>\n",
       "      <th></th>\n",
       "      <th></th>\n",
       "      <th></th>\n",
       "      <th></th>\n",
       "      <th></th>\n",
       "    </tr>\n",
       "  </thead>\n",
       "  <tbody>\n",
       "    <tr>\n",
       "      <th>1</th>\n",
       "      <td>6003595</td>\n",
       "      <td>2020-11-27</td>\n",
       "      <td>2020-12-07</td>\n",
       "      <td>219.00</td>\n",
       "      <td>1</td>\n",
       "      <td>edge</td>\n",
       "    </tr>\n",
       "    <tr>\n",
       "      <th>2</th>\n",
       "      <td>115095095</td>\n",
       "      <td>2020-12-06</td>\n",
       "      <td>2020-12-06</td>\n",
       "      <td>1990.00</td>\n",
       "      <td>1</td>\n",
       "      <td>chrome</td>\n",
       "    </tr>\n",
       "    <tr>\n",
       "      <th>3</th>\n",
       "      <td>144829298</td>\n",
       "      <td>2020-12-06</td>\n",
       "      <td>2020-12-06</td>\n",
       "      <td>3199.00</td>\n",
       "      <td>1</td>\n",
       "      <td>safari</td>\n",
       "    </tr>\n",
       "    <tr>\n",
       "      <th>4</th>\n",
       "      <td>53767165</td>\n",
       "      <td>2020-09-22</td>\n",
       "      <td>2020-12-01</td>\n",
       "      <td>24083.00</td>\n",
       "      <td>7</td>\n",
       "      <td>chrome</td>\n",
       "    </tr>\n",
       "    <tr>\n",
       "      <th>5</th>\n",
       "      <td>2188103</td>\n",
       "      <td>2020-12-05</td>\n",
       "      <td>2020-12-06</td>\n",
       "      <td>1484.91</td>\n",
       "      <td>6</td>\n",
       "      <td>chrome</td>\n",
       "    </tr>\n",
       "  </tbody>\n",
       "</table>\n",
       "</div>"
      ],
      "text/plain": [
       "         uid first_visit order_date   revenue  count user_browser\n",
       "#                                                                \n",
       "1    6003595  2020-11-27 2020-12-07    219.00      1         edge\n",
       "2  115095095  2020-12-06 2020-12-06   1990.00      1       chrome\n",
       "3  144829298  2020-12-06 2020-12-06   3199.00      1       safari\n",
       "4   53767165  2020-09-22 2020-12-01  24083.00      7       chrome\n",
       "5    2188103  2020-12-05 2020-12-06   1484.91      6       chrome"
      ]
     },
     "execution_count": 18,
     "metadata": {},
     "output_type": "execute_result"
    }
   ],
   "source": [
    "df.head()"
   ]
  },
  {
   "cell_type": "code",
   "execution_count": 19,
   "id": "c7862014",
   "metadata": {},
   "outputs": [
    {
     "data": {
      "text/plain": [
       "8"
      ]
     },
     "execution_count": 19,
     "metadata": {},
     "output_type": "execute_result"
    }
   ],
   "source": [
    "# кол-о уникальных дат когда происходила покупка\n",
    "df.order_date.nunique()"
   ]
  },
  {
   "cell_type": "code",
   "execution_count": 20,
   "id": "c1780f3c",
   "metadata": {},
   "outputs": [
    {
     "data": {
      "text/plain": [
       "2020-12-06    193266\n",
       "2020-12-07     79809\n",
       "2020-12-04     30582\n",
       "2020-11-30     29009\n",
       "2020-12-01     25746\n",
       "2020-12-05     22504\n",
       "2020-12-02     21779\n",
       "2020-12-03     19551\n",
       "Name: order_date, dtype: int64"
      ]
     },
     "execution_count": 20,
     "metadata": {},
     "output_type": "execute_result"
    }
   ],
   "source": [
    "df.order_date.value_counts()"
   ]
  },
  {
   "cell_type": "markdown",
   "id": "911709f2",
   "metadata": {},
   "source": [
    "###  2020-12-06 произошло самое большее кол-о покупок. но для красоты можно построить и гистограмму)"
   ]
  },
  {
   "cell_type": "code",
   "execution_count": 21,
   "id": "c26546d1",
   "metadata": {},
   "outputs": [
    {
     "data": {
      "text/plain": [
       "(array([ 29009.,  25746.,  21779.,      0.,  19551.,  30582.,      0.,\n",
       "         22504., 193266.,  79809.]),\n",
       " array([18596. , 18596.7, 18597.4, 18598.1, 18598.8, 18599.5, 18600.2,\n",
       "        18600.9, 18601.6, 18602.3, 18603. ]),\n",
       " <BarContainer object of 10 artists>)"
      ]
     },
     "execution_count": 21,
     "metadata": {},
     "output_type": "execute_result"
    },
    {
     "data": {
      "image/png": "[encoded data removed]",
      "text/plain": [
       "<Figure size 432x288 with 1 Axes>"
      ]
     },
     "metadata": {
      "needs_background": "light"
     },
     "output_type": "display_data"
    }
   ],
   "source": [
    "plt.hist(df.order_date, orientation=\"horizontal\", rwidth=10)"
   ]
  },
  {
   "cell_type": "markdown",
   "id": "dc643d33",
   "metadata": {},
   "source": [
    "### 3.2 Проанализируйте выручку, посещаемость, число покупаемых товаров в разбивке по браузерам. Какие особенности вы видите? "
   ]
  },
  {
   "cell_type": "code",
   "execution_count": 22,
   "id": "5f3653d6",
   "metadata": {},
   "outputs": [
    {
     "data": {
      "text/html": [
       "<div>\n",
       "<style scoped>\n",
       "    .dataframe tbody tr th:only-of-type {\n",
       "        vertical-align: middle;\n",
       "    }\n",
       "\n",
       "    .dataframe tbody tr th {\n",
       "        vertical-align: top;\n",
       "    }\n",
       "\n",
       "    .dataframe thead th {\n",
       "        text-align: right;\n",
       "    }\n",
       "</style>\n",
       "<table border=\"1\" class=\"dataframe\">\n",
       "  <thead>\n",
       "    <tr style=\"text-align: right;\">\n",
       "      <th></th>\n",
       "      <th>uid</th>\n",
       "      <th>first_visit</th>\n",
       "      <th>order_date</th>\n",
       "      <th>revenue</th>\n",
       "      <th>count</th>\n",
       "      <th>user_browser</th>\n",
       "    </tr>\n",
       "    <tr>\n",
       "      <th>#</th>\n",
       "      <th></th>\n",
       "      <th></th>\n",
       "      <th></th>\n",
       "      <th></th>\n",
       "      <th></th>\n",
       "      <th></th>\n",
       "    </tr>\n",
       "  </thead>\n",
       "  <tbody>\n",
       "    <tr>\n",
       "      <th>1</th>\n",
       "      <td>6003595</td>\n",
       "      <td>2020-11-27</td>\n",
       "      <td>2020-12-07</td>\n",
       "      <td>219.00</td>\n",
       "      <td>1</td>\n",
       "      <td>edge</td>\n",
       "    </tr>\n",
       "    <tr>\n",
       "      <th>2</th>\n",
       "      <td>115095095</td>\n",
       "      <td>2020-12-06</td>\n",
       "      <td>2020-12-06</td>\n",
       "      <td>1990.00</td>\n",
       "      <td>1</td>\n",
       "      <td>chrome</td>\n",
       "    </tr>\n",
       "    <tr>\n",
       "      <th>3</th>\n",
       "      <td>144829298</td>\n",
       "      <td>2020-12-06</td>\n",
       "      <td>2020-12-06</td>\n",
       "      <td>3199.00</td>\n",
       "      <td>1</td>\n",
       "      <td>safari</td>\n",
       "    </tr>\n",
       "    <tr>\n",
       "      <th>4</th>\n",
       "      <td>53767165</td>\n",
       "      <td>2020-09-22</td>\n",
       "      <td>2020-12-01</td>\n",
       "      <td>24083.00</td>\n",
       "      <td>7</td>\n",
       "      <td>chrome</td>\n",
       "    </tr>\n",
       "    <tr>\n",
       "      <th>5</th>\n",
       "      <td>2188103</td>\n",
       "      <td>2020-12-05</td>\n",
       "      <td>2020-12-06</td>\n",
       "      <td>1484.91</td>\n",
       "      <td>6</td>\n",
       "      <td>chrome</td>\n",
       "    </tr>\n",
       "  </tbody>\n",
       "</table>\n",
       "</div>"
      ],
      "text/plain": [
       "         uid first_visit order_date   revenue  count user_browser\n",
       "#                                                                \n",
       "1    6003595  2020-11-27 2020-12-07    219.00      1         edge\n",
       "2  115095095  2020-12-06 2020-12-06   1990.00      1       chrome\n",
       "3  144829298  2020-12-06 2020-12-06   3199.00      1       safari\n",
       "4   53767165  2020-09-22 2020-12-01  24083.00      7       chrome\n",
       "5    2188103  2020-12-05 2020-12-06   1484.91      6       chrome"
      ]
     },
     "execution_count": 22,
     "metadata": {},
     "output_type": "execute_result"
    }
   ],
   "source": [
    "df.head()"
   ]
  },
  {
   "cell_type": "code",
   "execution_count": 23,
   "id": "5493c062",
   "metadata": {},
   "outputs": [
    {
     "data": {
      "text/html": [
       "<div>\n",
       "<style scoped>\n",
       "    .dataframe tbody tr th:only-of-type {\n",
       "        vertical-align: middle;\n",
       "    }\n",
       "\n",
       "    .dataframe tbody tr th {\n",
       "        vertical-align: top;\n",
       "    }\n",
       "\n",
       "    .dataframe thead th {\n",
       "        text-align: right;\n",
       "    }\n",
       "</style>\n",
       "<table border=\"1\" class=\"dataframe\">\n",
       "  <thead>\n",
       "    <tr style=\"text-align: right;\">\n",
       "      <th></th>\n",
       "      <th>revenue</th>\n",
       "      <th>first_visit</th>\n",
       "      <th>count</th>\n",
       "    </tr>\n",
       "    <tr>\n",
       "      <th>user_browser</th>\n",
       "      <th></th>\n",
       "      <th></th>\n",
       "      <th></th>\n",
       "    </tr>\n",
       "  </thead>\n",
       "  <tbody>\n",
       "    <tr>\n",
       "      <th>chrome</th>\n",
       "      <td>9.342788e+08</td>\n",
       "      <td>92</td>\n",
       "      <td>901688</td>\n",
       "    </tr>\n",
       "    <tr>\n",
       "      <th>yandex browser</th>\n",
       "      <td>1.995901e+08</td>\n",
       "      <td>91</td>\n",
       "      <td>198305</td>\n",
       "    </tr>\n",
       "    <tr>\n",
       "      <th>firefox</th>\n",
       "      <td>1.660440e+08</td>\n",
       "      <td>91</td>\n",
       "      <td>181777</td>\n",
       "    </tr>\n",
       "    <tr>\n",
       "      <th>opera</th>\n",
       "      <td>1.389134e+08</td>\n",
       "      <td>91</td>\n",
       "      <td>165190</td>\n",
       "    </tr>\n",
       "    <tr>\n",
       "      <th>safari</th>\n",
       "      <td>1.183202e+08</td>\n",
       "      <td>92</td>\n",
       "      <td>161879</td>\n",
       "    </tr>\n",
       "  </tbody>\n",
       "</table>\n",
       "</div>"
      ],
      "text/plain": [
       "                     revenue  first_visit   count\n",
       "user_browser                                     \n",
       "chrome          9.342788e+08           92  901688\n",
       "yandex browser  1.995901e+08           91  198305\n",
       "firefox         1.660440e+08           91  181777\n",
       "opera           1.389134e+08           91  165190\n",
       "safari          1.183202e+08           92  161879"
      ]
     },
     "execution_count": 23,
     "metadata": {},
     "output_type": "execute_result"
    }
   ],
   "source": [
    "df_t = (\n",
    "    df.groupby(\"user_browser\")\n",
    "    .agg({\"revenue\": \"sum\", \"first_visit\": \"nunique\", \"count\": \"sum\"})\n",
    "    .sort_values([\"revenue\", \"first_visit\", \"count\"], ascending=[False, False, False])\n",
    ")\n",
    "df_t.head()"
   ]
  },
  {
   "cell_type": "code",
   "execution_count": 24,
   "id": "80ddc249",
   "metadata": {},
   "outputs": [
    {
     "data": {
      "text/plain": [
       "<AxesSubplot:xlabel='user_browser'>"
      ]
     },
     "execution_count": 24,
     "metadata": {},
     "output_type": "execute_result"
    },
    {
     "data": {
      "image/png": "[encoded data removed]",
      "text/plain": [
       "<Figure size 1224x504 with 1 Axes>"
      ]
     },
     "metadata": {
      "needs_background": "light"
     },
     "output_type": "display_data"
    }
   ],
   "source": [
    "df_t[\"revenue\"].plot(figsize = (17, 7))"
   ]
  },
  {
   "cell_type": "code",
   "execution_count": 25,
   "id": "52b6c2f2",
   "metadata": {},
   "outputs": [
    {
     "data": {
      "text/plain": [
       "<AxesSubplot:xlabel='user_browser'>"
      ]
     },
     "execution_count": 25,
     "metadata": {},
     "output_type": "execute_result"
    },
    {
     "data": {
      "image/png": "[encoded data removed]",
      "text/plain": [
       "<Figure size 1224x504 with 1 Axes>"
      ]
     },
     "metadata": {
      "needs_background": "light"
     },
     "output_type": "display_data"
    }
   ],
   "source": [
    "df_t[\"first_visit\"].plot(figsize = (17, 7))"
   ]
  },
  {
   "cell_type": "code",
   "execution_count": 26,
   "id": "9b94501b",
   "metadata": {},
   "outputs": [
    {
     "data": {
      "text/plain": [
       "<AxesSubplot:xlabel='user_browser'>"
      ]
     },
     "execution_count": 26,
     "metadata": {},
     "output_type": "execute_result"
    },
    {
     "data": {
      "image/png": "[encoded data removed]",
      "text/plain": [
       "<Figure size 1224x504 with 1 Axes>"
      ]
     },
     "metadata": {
      "needs_background": "light"
     },
     "output_type": "display_data"
    }
   ],
   "source": [
    "df_t[\"count\"].plot(figsize = (17, 7))"
   ]
  },
  {
   "cell_type": "markdown",
   "id": "e89944e1",
   "metadata": {},
   "source": [
    "### пользователи хрома в основном посещают данный магазин и в дальнейшем покупают. от тех же кто использует edge маленькая коверсия"
   ]
  },
  {
   "cell_type": "markdown",
   "id": "b32342f1",
   "metadata": {},
   "source": [
    "### 3.3 Сколько в среднем проходит от первого визита до совершения покупки? Есть ли зависимось между выручкой с заказа и этим временем? Какие интересные закономерности вы видите?"
   ]
  },
  {
   "cell_type": "code",
   "execution_count": 27,
   "id": "e3601fa7",
   "metadata": {},
   "outputs": [
    {
     "data": {
      "text/plain": [
       "(406716, 6)"
      ]
     },
     "execution_count": 27,
     "metadata": {},
     "output_type": "execute_result"
    }
   ],
   "source": [
    "# оставим только тех кто совершал покупку\n",
    "df_val = df.dropna(subset=[\"revenue\"])\n",
    "df_val.shape"
   ]
  },
  {
   "cell_type": "code",
   "execution_count": 28,
   "id": "bb132bac",
   "metadata": {},
   "outputs": [
    {
     "data": {
      "text/html": [
       "<div>\n",
       "<style scoped>\n",
       "    .dataframe tbody tr th:only-of-type {\n",
       "        vertical-align: middle;\n",
       "    }\n",
       "\n",
       "    .dataframe tbody tr th {\n",
       "        vertical-align: top;\n",
       "    }\n",
       "\n",
       "    .dataframe thead th {\n",
       "        text-align: right;\n",
       "    }\n",
       "</style>\n",
       "<table border=\"1\" class=\"dataframe\">\n",
       "  <thead>\n",
       "    <tr style=\"text-align: right;\">\n",
       "      <th></th>\n",
       "      <th>first_day_bay</th>\n",
       "    </tr>\n",
       "    <tr>\n",
       "      <th>uid</th>\n",
       "      <th></th>\n",
       "    </tr>\n",
       "  </thead>\n",
       "  <tbody>\n",
       "    <tr>\n",
       "      <th>3878</th>\n",
       "      <td>2020-12-06</td>\n",
       "    </tr>\n",
       "    <tr>\n",
       "      <th>15502</th>\n",
       "      <td>2020-12-06</td>\n",
       "    </tr>\n",
       "    <tr>\n",
       "      <th>19866</th>\n",
       "      <td>2020-12-06</td>\n",
       "    </tr>\n",
       "    <tr>\n",
       "      <th>37144</th>\n",
       "      <td>2020-12-06</td>\n",
       "    </tr>\n",
       "    <tr>\n",
       "      <th>51281</th>\n",
       "      <td>2020-12-06</td>\n",
       "    </tr>\n",
       "  </tbody>\n",
       "</table>\n",
       "</div>"
      ],
      "text/plain": [
       "      first_day_bay\n",
       "uid                \n",
       "3878     2020-12-06\n",
       "15502    2020-12-06\n",
       "19866    2020-12-06\n",
       "37144    2020-12-06\n",
       "51281    2020-12-06"
      ]
     },
     "execution_count": 28,
     "metadata": {},
     "output_type": "execute_result"
    }
   ],
   "source": [
    "# для каждлого пользователя формируем дату первой покупки\n",
    "df_first_day = (\n",
    "    df_val.groupby(\"uid\")\n",
    "    .agg(\n",
    "        {\"order_date\": \"min\"}\n",
    "    )\n",
    ")\n",
    "df_first_day.columns = [\"first_day_bay\"]\n",
    "df_first_day.head()"
   ]
  },
  {
   "cell_type": "code",
   "execution_count": 29,
   "id": "d57020c5",
   "metadata": {},
   "outputs": [
    {
     "data": {
      "text/html": [
       "<div>\n",
       "<style scoped>\n",
       "    .dataframe tbody tr th:only-of-type {\n",
       "        vertical-align: middle;\n",
       "    }\n",
       "\n",
       "    .dataframe tbody tr th {\n",
       "        vertical-align: top;\n",
       "    }\n",
       "\n",
       "    .dataframe thead th {\n",
       "        text-align: right;\n",
       "    }\n",
       "</style>\n",
       "<table border=\"1\" class=\"dataframe\">\n",
       "  <thead>\n",
       "    <tr style=\"text-align: right;\">\n",
       "      <th></th>\n",
       "      <th>uid</th>\n",
       "      <th>first_visit</th>\n",
       "      <th>order_date</th>\n",
       "      <th>revenue</th>\n",
       "      <th>count</th>\n",
       "      <th>user_browser</th>\n",
       "      <th>first_day_bay</th>\n",
       "    </tr>\n",
       "    <tr>\n",
       "      <th>#</th>\n",
       "      <th></th>\n",
       "      <th></th>\n",
       "      <th></th>\n",
       "      <th></th>\n",
       "      <th></th>\n",
       "      <th></th>\n",
       "      <th></th>\n",
       "    </tr>\n",
       "  </thead>\n",
       "  <tbody>\n",
       "    <tr>\n",
       "      <th>1</th>\n",
       "      <td>6003595</td>\n",
       "      <td>2020-11-27</td>\n",
       "      <td>2020-12-07</td>\n",
       "      <td>219.00</td>\n",
       "      <td>1</td>\n",
       "      <td>edge</td>\n",
       "      <td>2020-12-07</td>\n",
       "    </tr>\n",
       "    <tr>\n",
       "      <th>2</th>\n",
       "      <td>115095095</td>\n",
       "      <td>2020-12-06</td>\n",
       "      <td>2020-12-06</td>\n",
       "      <td>1990.00</td>\n",
       "      <td>1</td>\n",
       "      <td>chrome</td>\n",
       "      <td>2020-12-06</td>\n",
       "    </tr>\n",
       "    <tr>\n",
       "      <th>3</th>\n",
       "      <td>144829298</td>\n",
       "      <td>2020-12-06</td>\n",
       "      <td>2020-12-06</td>\n",
       "      <td>3199.00</td>\n",
       "      <td>1</td>\n",
       "      <td>safari</td>\n",
       "      <td>2020-12-06</td>\n",
       "    </tr>\n",
       "    <tr>\n",
       "      <th>4</th>\n",
       "      <td>53767165</td>\n",
       "      <td>2020-09-22</td>\n",
       "      <td>2020-12-01</td>\n",
       "      <td>24083.00</td>\n",
       "      <td>7</td>\n",
       "      <td>chrome</td>\n",
       "      <td>2020-12-01</td>\n",
       "    </tr>\n",
       "    <tr>\n",
       "      <th>5</th>\n",
       "      <td>2188103</td>\n",
       "      <td>2020-12-05</td>\n",
       "      <td>2020-12-06</td>\n",
       "      <td>1484.91</td>\n",
       "      <td>6</td>\n",
       "      <td>chrome</td>\n",
       "      <td>2020-12-06</td>\n",
       "    </tr>\n",
       "  </tbody>\n",
       "</table>\n",
       "</div>"
      ],
      "text/plain": [
       "         uid first_visit order_date   revenue  count user_browser  \\\n",
       "#                                                                   \n",
       "1    6003595  2020-11-27 2020-12-07    219.00      1         edge   \n",
       "2  115095095  2020-12-06 2020-12-06   1990.00      1       chrome   \n",
       "3  144829298  2020-12-06 2020-12-06   3199.00      1       safari   \n",
       "4   53767165  2020-09-22 2020-12-01  24083.00      7       chrome   \n",
       "5    2188103  2020-12-05 2020-12-06   1484.91      6       chrome   \n",
       "\n",
       "  first_day_bay  \n",
       "#                \n",
       "1    2020-12-07  \n",
       "2    2020-12-06  \n",
       "3    2020-12-06  \n",
       "4    2020-12-01  \n",
       "5    2020-12-06  "
      ]
     },
     "execution_count": 29,
     "metadata": {},
     "output_type": "execute_result"
    }
   ],
   "source": [
    "df_val = df_val.join(df_first_day, on = \"uid\")\n",
    "df_val.head()"
   ]
  },
  {
   "cell_type": "code",
   "execution_count": 30,
   "id": "5ead0d4c",
   "metadata": {},
   "outputs": [
    {
     "data": {
      "text/html": [
       "<div>\n",
       "<style scoped>\n",
       "    .dataframe tbody tr th:only-of-type {\n",
       "        vertical-align: middle;\n",
       "    }\n",
       "\n",
       "    .dataframe tbody tr th {\n",
       "        vertical-align: top;\n",
       "    }\n",
       "\n",
       "    .dataframe thead th {\n",
       "        text-align: right;\n",
       "    }\n",
       "</style>\n",
       "<table border=\"1\" class=\"dataframe\">\n",
       "  <thead>\n",
       "    <tr style=\"text-align: right;\">\n",
       "      <th></th>\n",
       "      <th>uid</th>\n",
       "      <th>first_visit</th>\n",
       "      <th>order_date</th>\n",
       "      <th>revenue</th>\n",
       "      <th>count</th>\n",
       "      <th>user_browser</th>\n",
       "      <th>first_day_bay</th>\n",
       "      <th>delta_day_buy</th>\n",
       "    </tr>\n",
       "    <tr>\n",
       "      <th>#</th>\n",
       "      <th></th>\n",
       "      <th></th>\n",
       "      <th></th>\n",
       "      <th></th>\n",
       "      <th></th>\n",
       "      <th></th>\n",
       "      <th></th>\n",
       "      <th></th>\n",
       "    </tr>\n",
       "  </thead>\n",
       "  <tbody>\n",
       "    <tr>\n",
       "      <th>1</th>\n",
       "      <td>6003595</td>\n",
       "      <td>2020-11-27</td>\n",
       "      <td>2020-12-07</td>\n",
       "      <td>219.00</td>\n",
       "      <td>1</td>\n",
       "      <td>edge</td>\n",
       "      <td>2020-12-07</td>\n",
       "      <td>10.0</td>\n",
       "    </tr>\n",
       "    <tr>\n",
       "      <th>2</th>\n",
       "      <td>115095095</td>\n",
       "      <td>2020-12-06</td>\n",
       "      <td>2020-12-06</td>\n",
       "      <td>1990.00</td>\n",
       "      <td>1</td>\n",
       "      <td>chrome</td>\n",
       "      <td>2020-12-06</td>\n",
       "      <td>0.0</td>\n",
       "    </tr>\n",
       "    <tr>\n",
       "      <th>3</th>\n",
       "      <td>144829298</td>\n",
       "      <td>2020-12-06</td>\n",
       "      <td>2020-12-06</td>\n",
       "      <td>3199.00</td>\n",
       "      <td>1</td>\n",
       "      <td>safari</td>\n",
       "      <td>2020-12-06</td>\n",
       "      <td>0.0</td>\n",
       "    </tr>\n",
       "    <tr>\n",
       "      <th>4</th>\n",
       "      <td>53767165</td>\n",
       "      <td>2020-09-22</td>\n",
       "      <td>2020-12-01</td>\n",
       "      <td>24083.00</td>\n",
       "      <td>7</td>\n",
       "      <td>chrome</td>\n",
       "      <td>2020-12-01</td>\n",
       "      <td>70.0</td>\n",
       "    </tr>\n",
       "    <tr>\n",
       "      <th>5</th>\n",
       "      <td>2188103</td>\n",
       "      <td>2020-12-05</td>\n",
       "      <td>2020-12-06</td>\n",
       "      <td>1484.91</td>\n",
       "      <td>6</td>\n",
       "      <td>chrome</td>\n",
       "      <td>2020-12-06</td>\n",
       "      <td>1.0</td>\n",
       "    </tr>\n",
       "  </tbody>\n",
       "</table>\n",
       "</div>"
      ],
      "text/plain": [
       "         uid first_visit order_date   revenue  count user_browser  \\\n",
       "#                                                                   \n",
       "1    6003595  2020-11-27 2020-12-07    219.00      1         edge   \n",
       "2  115095095  2020-12-06 2020-12-06   1990.00      1       chrome   \n",
       "3  144829298  2020-12-06 2020-12-06   3199.00      1       safari   \n",
       "4   53767165  2020-09-22 2020-12-01  24083.00      7       chrome   \n",
       "5    2188103  2020-12-05 2020-12-06   1484.91      6       chrome   \n",
       "\n",
       "  first_day_bay  delta_day_buy  \n",
       "#                               \n",
       "1    2020-12-07           10.0  \n",
       "2    2020-12-06            0.0  \n",
       "3    2020-12-06            0.0  \n",
       "4    2020-12-01           70.0  \n",
       "5    2020-12-06            1.0  "
      ]
     },
     "execution_count": 30,
     "metadata": {},
     "output_type": "execute_result"
    }
   ],
   "source": [
    "df_val[\"delta_day_buy\"] = (\n",
    "    df_val[\"first_day_bay\"] - df_val[\"first_visit\"]\n",
    ")/ np.timedelta64(1, \"D\")\n",
    "df_val.head()"
   ]
  },
  {
   "cell_type": "code",
   "execution_count": 31,
   "id": "09a532c4",
   "metadata": {},
   "outputs": [
    {
     "data": {
      "text/plain": [
       "Text(0.5, 0, 'Раница между 1ой покупкой и 1м визитом')"
      ]
     },
     "execution_count": 31,
     "metadata": {},
     "output_type": "execute_result"
    },
    {
     "data": {
      "image/png": "[encoded data removed]",
      "text/plain": [
       "<Figure size 432x288 with 1 Axes>"
      ]
     },
     "metadata": {
      "needs_background": "light"
     },
     "output_type": "display_data"
    }
   ],
   "source": [
    "df_val[\"delta_day_buy\"].hist(bins = 50, log = True)\n",
    "plt.xlabel(\"Раница между 1ой покупкой и 1м визитом\")"
   ]
  },
  {
   "cell_type": "code",
   "execution_count": 32,
   "id": "4f3f47b4",
   "metadata": {},
   "outputs": [
    {
     "data": {
      "text/plain": [
       "count    406716.000000\n",
       "mean         26.725366\n",
       "std          28.516638\n",
       "min          -7.000000\n",
       "25%           0.000000\n",
       "50%          16.000000\n",
       "75%          51.000000\n",
       "max         183.000000\n",
       "Name: delta_day_buy, dtype: float64"
      ]
     },
     "execution_count": 32,
     "metadata": {},
     "output_type": "execute_result"
    }
   ],
   "source": [
    "df_val[\"delta_day_buy\"].describe()"
   ]
  },
  {
   "cell_type": "code",
   "execution_count": 33,
   "id": "ba426a2a",
   "metadata": {},
   "outputs": [
    {
     "data": {
      "text/plain": [
       " 0.0      104623\n",
       " 1.0       16075\n",
       " 4.0        8014\n",
       " 7.0        6994\n",
       " 28.0       6979\n",
       "           ...  \n",
       " 86.0       1083\n",
       "-7.0         701\n",
       "-6.0         581\n",
       " 90.0        474\n",
       " 183.0        12\n",
       "Name: delta_day_buy, Length: 99, dtype: int64"
      ]
     },
     "execution_count": 33,
     "metadata": {},
     "output_type": "execute_result"
    }
   ],
   "source": [
    "df_val.delta_day_buy.value_counts()"
   ]
  },
  {
   "cell_type": "code",
   "execution_count": 34,
   "id": "c2e3210e",
   "metadata": {},
   "outputs": [
    {
     "data": {
      "text/html": [
       "<div>\n",
       "<style scoped>\n",
       "    .dataframe tbody tr th:only-of-type {\n",
       "        vertical-align: middle;\n",
       "    }\n",
       "\n",
       "    .dataframe tbody tr th {\n",
       "        vertical-align: top;\n",
       "    }\n",
       "\n",
       "    .dataframe thead th {\n",
       "        text-align: right;\n",
       "    }\n",
       "</style>\n",
       "<table border=\"1\" class=\"dataframe\">\n",
       "  <thead>\n",
       "    <tr style=\"text-align: right;\">\n",
       "      <th></th>\n",
       "      <th>uid</th>\n",
       "      <th>first_visit</th>\n",
       "      <th>order_date</th>\n",
       "      <th>revenue</th>\n",
       "      <th>count</th>\n",
       "      <th>user_browser</th>\n",
       "      <th>first_day_bay</th>\n",
       "      <th>delta_day_buy</th>\n",
       "    </tr>\n",
       "    <tr>\n",
       "      <th>#</th>\n",
       "      <th></th>\n",
       "      <th></th>\n",
       "      <th></th>\n",
       "      <th></th>\n",
       "      <th></th>\n",
       "      <th></th>\n",
       "      <th></th>\n",
       "      <th></th>\n",
       "    </tr>\n",
       "  </thead>\n",
       "  <tbody>\n",
       "    <tr>\n",
       "      <th>21</th>\n",
       "      <td>169667031</td>\n",
       "      <td>2020-12-02</td>\n",
       "      <td>2020-12-01</td>\n",
       "      <td>1718.11</td>\n",
       "      <td>4</td>\n",
       "      <td>chrome</td>\n",
       "      <td>2020-12-01</td>\n",
       "      <td>-1.0</td>\n",
       "    </tr>\n",
       "    <tr>\n",
       "      <th>31</th>\n",
       "      <td>68014460</td>\n",
       "      <td>2020-12-06</td>\n",
       "      <td>2020-12-07</td>\n",
       "      <td>379.00</td>\n",
       "      <td>1</td>\n",
       "      <td>opera</td>\n",
       "      <td>2020-11-30</td>\n",
       "      <td>-6.0</td>\n",
       "    </tr>\n",
       "    <tr>\n",
       "      <th>82</th>\n",
       "      <td>168143514</td>\n",
       "      <td>2020-12-04</td>\n",
       "      <td>2020-12-02</td>\n",
       "      <td>1250.00</td>\n",
       "      <td>3</td>\n",
       "      <td>chrome</td>\n",
       "      <td>2020-12-02</td>\n",
       "      <td>-2.0</td>\n",
       "    </tr>\n",
       "    <tr>\n",
       "      <th>143</th>\n",
       "      <td>45593617</td>\n",
       "      <td>2020-12-06</td>\n",
       "      <td>2020-12-05</td>\n",
       "      <td>1115.00</td>\n",
       "      <td>2</td>\n",
       "      <td>chrome</td>\n",
       "      <td>2020-12-05</td>\n",
       "      <td>-1.0</td>\n",
       "    </tr>\n",
       "    <tr>\n",
       "      <th>173</th>\n",
       "      <td>157451104</td>\n",
       "      <td>2020-12-07</td>\n",
       "      <td>2020-12-07</td>\n",
       "      <td>1489.00</td>\n",
       "      <td>1</td>\n",
       "      <td>chrome</td>\n",
       "      <td>2020-11-30</td>\n",
       "      <td>-7.0</td>\n",
       "    </tr>\n",
       "    <tr>\n",
       "      <th>...</th>\n",
       "      <td>...</td>\n",
       "      <td>...</td>\n",
       "      <td>...</td>\n",
       "      <td>...</td>\n",
       "      <td>...</td>\n",
       "      <td>...</td>\n",
       "      <td>...</td>\n",
       "      <td>...</td>\n",
       "    </tr>\n",
       "    <tr>\n",
       "      <th>422114</th>\n",
       "      <td>169222873</td>\n",
       "      <td>2020-12-04</td>\n",
       "      <td>2020-12-04</td>\n",
       "      <td>1720.00</td>\n",
       "      <td>1</td>\n",
       "      <td>chrome</td>\n",
       "      <td>2020-11-30</td>\n",
       "      <td>-4.0</td>\n",
       "    </tr>\n",
       "    <tr>\n",
       "      <th>422160</th>\n",
       "      <td>61614367</td>\n",
       "      <td>2020-12-06</td>\n",
       "      <td>2020-12-07</td>\n",
       "      <td>1605.00</td>\n",
       "      <td>5</td>\n",
       "      <td>chrome</td>\n",
       "      <td>2020-12-01</td>\n",
       "      <td>-5.0</td>\n",
       "    </tr>\n",
       "    <tr>\n",
       "      <th>422166</th>\n",
       "      <td>87266980</td>\n",
       "      <td>2020-12-06</td>\n",
       "      <td>2020-11-30</td>\n",
       "      <td>2986.00</td>\n",
       "      <td>6</td>\n",
       "      <td>chrome</td>\n",
       "      <td>2020-11-30</td>\n",
       "      <td>-6.0</td>\n",
       "    </tr>\n",
       "    <tr>\n",
       "      <th>422220</th>\n",
       "      <td>82364108</td>\n",
       "      <td>2020-12-04</td>\n",
       "      <td>2020-12-04</td>\n",
       "      <td>5200.00</td>\n",
       "      <td>1</td>\n",
       "      <td>opera</td>\n",
       "      <td>2020-12-01</td>\n",
       "      <td>-3.0</td>\n",
       "    </tr>\n",
       "    <tr>\n",
       "      <th>422245</th>\n",
       "      <td>169667031</td>\n",
       "      <td>2020-12-07</td>\n",
       "      <td>2020-12-07</td>\n",
       "      <td>1015.00</td>\n",
       "      <td>2</td>\n",
       "      <td>chrome</td>\n",
       "      <td>2020-12-01</td>\n",
       "      <td>-6.0</td>\n",
       "    </tr>\n",
       "  </tbody>\n",
       "</table>\n",
       "<p>12792 rows × 8 columns</p>\n",
       "</div>"
      ],
      "text/plain": [
       "              uid first_visit order_date  revenue  count user_browser  \\\n",
       "#                                                                       \n",
       "21      169667031  2020-12-02 2020-12-01  1718.11      4       chrome   \n",
       "31       68014460  2020-12-06 2020-12-07   379.00      1        opera   \n",
       "82      168143514  2020-12-04 2020-12-02  1250.00      3       chrome   \n",
       "143      45593617  2020-12-06 2020-12-05  1115.00      2       chrome   \n",
       "173     157451104  2020-12-07 2020-12-07  1489.00      1       chrome   \n",
       "...           ...         ...        ...      ...    ...          ...   \n",
       "422114  169222873  2020-12-04 2020-12-04  1720.00      1       chrome   \n",
       "422160   61614367  2020-12-06 2020-12-07  1605.00      5       chrome   \n",
       "422166   87266980  2020-12-06 2020-11-30  2986.00      6       chrome   \n",
       "422220   82364108  2020-12-04 2020-12-04  5200.00      1        opera   \n",
       "422245  169667031  2020-12-07 2020-12-07  1015.00      2       chrome   \n",
       "\n",
       "       first_day_bay  delta_day_buy  \n",
       "#                                    \n",
       "21        2020-12-01           -1.0  \n",
       "31        2020-11-30           -6.0  \n",
       "82        2020-12-02           -2.0  \n",
       "143       2020-12-05           -1.0  \n",
       "173       2020-11-30           -7.0  \n",
       "...              ...            ...  \n",
       "422114    2020-11-30           -4.0  \n",
       "422160    2020-12-01           -5.0  \n",
       "422166    2020-11-30           -6.0  \n",
       "422220    2020-12-01           -3.0  \n",
       "422245    2020-12-01           -6.0  \n",
       "\n",
       "[12792 rows x 8 columns]"
      ]
     },
     "execution_count": 34,
     "metadata": {},
     "output_type": "execute_result"
    }
   ],
   "source": [
    "# посмотрим на те покупки которые были совершены до первого визита. возможно произошел сбой\n",
    "mask = df_val.delta_day_buy < 0\n",
    "df_val[mask]"
   ]
  },
  {
   "cell_type": "code",
   "execution_count": 35,
   "id": "2a1a4b73",
   "metadata": {},
   "outputs": [
    {
     "data": {
      "text/plain": [
       "(393924, 8)"
      ]
     },
     "execution_count": 35,
     "metadata": {},
     "output_type": "execute_result"
    }
   ],
   "source": [
    "# оставим только те записи где разница между покупкой и первым посещением положительное число\n",
    "df_val = df_val[~mask]\n",
    "df_val.shape"
   ]
  },
  {
   "cell_type": "code",
   "execution_count": 36,
   "id": "b7272e68",
   "metadata": {},
   "outputs": [
    {
     "data": {
      "text/plain": [
       "Text(0.5, 0, 'Раница между 1ой покупкой и 1м визитом')"
      ]
     },
     "execution_count": 36,
     "metadata": {},
     "output_type": "execute_result"
    },
    {
     "data": {
      "image/png": "[encoded data removed]",
      "text/plain": [
       "<Figure size 432x288 with 1 Axes>"
      ]
     },
     "metadata": {
      "needs_background": "light"
     },
     "output_type": "display_data"
    }
   ],
   "source": [
    "df_val[\"delta_day_buy\"].hist(bins = 50, log = True)\n",
    "plt.xlabel(\"Раница между 1ой покупкой и 1м визитом\")"
   ]
  },
  {
   "cell_type": "code",
   "execution_count": 37,
   "id": "7c39da28",
   "metadata": {},
   "outputs": [
    {
     "data": {
      "text/plain": [
       "count    393924.000000\n",
       "mean         27.700036\n",
       "std          28.448422\n",
       "min           0.000000\n",
       "25%           0.000000\n",
       "50%          18.000000\n",
       "75%          53.000000\n",
       "max         183.000000\n",
       "Name: delta_day_buy, dtype: float64"
      ]
     },
     "execution_count": 37,
     "metadata": {},
     "output_type": "execute_result"
    }
   ],
   "source": [
    "df_val[\"delta_day_buy\"].describe()"
   ]
  },
  {
   "cell_type": "markdown",
   "id": "40e782bf",
   "metadata": {},
   "source": [
    "#### mean = 27 дней. при этом ср. кв-е отклонение 28 дней"
   ]
  },
  {
   "cell_type": "code",
   "execution_count": 38,
   "id": "5508ec55",
   "metadata": {},
   "outputs": [
    {
     "data": {
      "text/html": [
       "<div>\n",
       "<style scoped>\n",
       "    .dataframe tbody tr th:only-of-type {\n",
       "        vertical-align: middle;\n",
       "    }\n",
       "\n",
       "    .dataframe tbody tr th {\n",
       "        vertical-align: top;\n",
       "    }\n",
       "\n",
       "    .dataframe thead th {\n",
       "        text-align: right;\n",
       "    }\n",
       "</style>\n",
       "<table border=\"1\" class=\"dataframe\">\n",
       "  <thead>\n",
       "    <tr style=\"text-align: right;\">\n",
       "      <th></th>\n",
       "      <th>uid</th>\n",
       "      <th>revenue</th>\n",
       "      <th>count</th>\n",
       "    </tr>\n",
       "    <tr>\n",
       "      <th>delta_day_buy</th>\n",
       "      <th></th>\n",
       "      <th></th>\n",
       "      <th></th>\n",
       "    </tr>\n",
       "  </thead>\n",
       "  <tbody>\n",
       "    <tr>\n",
       "      <th>0.0</th>\n",
       "      <td>9386152600795</td>\n",
       "      <td>5.166409e+08</td>\n",
       "      <td>401951</td>\n",
       "    </tr>\n",
       "    <tr>\n",
       "      <th>1.0</th>\n",
       "      <td>1414230102046</td>\n",
       "      <td>1.154700e+08</td>\n",
       "      <td>103934</td>\n",
       "    </tr>\n",
       "    <tr>\n",
       "      <th>2.0</th>\n",
       "      <td>559062076193</td>\n",
       "      <td>2.629172e+07</td>\n",
       "      <td>29649</td>\n",
       "    </tr>\n",
       "    <tr>\n",
       "      <th>3.0</th>\n",
       "      <td>486047171207</td>\n",
       "      <td>1.691167e+07</td>\n",
       "      <td>26282</td>\n",
       "    </tr>\n",
       "    <tr>\n",
       "      <th>4.0</th>\n",
       "      <td>772487586449</td>\n",
       "      <td>8.773927e+07</td>\n",
       "      <td>27602</td>\n",
       "    </tr>\n",
       "  </tbody>\n",
       "</table>\n",
       "</div>"
      ],
      "text/plain": [
       "                         uid       revenue   count\n",
       "delta_day_buy                                     \n",
       "0.0            9386152600795  5.166409e+08  401951\n",
       "1.0            1414230102046  1.154700e+08  103934\n",
       "2.0             559062076193  2.629172e+07   29649\n",
       "3.0             486047171207  1.691167e+07   26282\n",
       "4.0             772487586449  8.773927e+07   27602"
      ]
     },
     "execution_count": 38,
     "metadata": {},
     "output_type": "execute_result"
    }
   ],
   "source": [
    "df_val_day = (\n",
    "    df_val.groupby(\"delta_day_buy\")\n",
    "    .agg(\"sum\")\n",
    ")\n",
    "df_val_day.head()"
   ]
  },
  {
   "cell_type": "code",
   "execution_count": 39,
   "id": "e0de3dc2",
   "metadata": {},
   "outputs": [
    {
     "data": {
      "text/plain": [
       "Text(0, 0.5, 'Выручка')"
      ]
     },
     "execution_count": 39,
     "metadata": {},
     "output_type": "execute_result"
    },
    {
     "data": {
      "image/png": "[encoded data removed]",
      "text/plain": [
       "<Figure size 1080x504 with 1 Axes>"
      ]
     },
     "metadata": {
      "needs_background": "light"
     },
     "output_type": "display_data"
    }
   ],
   "source": [
    "df_val_day[\"revenue\"].plot(figsize= (15, 7))\n",
    "plt.xlabel(\"Разница между покупкой и первым посещением, в днях\")\n",
    "plt.ylabel(\"Выручка\")"
   ]
  },
  {
   "cell_type": "markdown",
   "id": "8c58b62e",
   "metadata": {},
   "source": [
    "### выручку приносят в основном те покупаели которые при первом посещении делают покупку "
   ]
  },
  {
   "cell_type": "markdown",
   "id": "24706711",
   "metadata": {},
   "source": [
    "### *Дополнительно: выведите статистику о пользователях, которая как Вам кажется,  может оказаться полезной."
   ]
  },
  {
   "cell_type": "code",
   "execution_count": 40,
   "id": "91c107e3",
   "metadata": {},
   "outputs": [
    {
     "data": {
      "text/html": [
       "<div>\n",
       "<style scoped>\n",
       "    .dataframe tbody tr th:only-of-type {\n",
       "        vertical-align: middle;\n",
       "    }\n",
       "\n",
       "    .dataframe tbody tr th {\n",
       "        vertical-align: top;\n",
       "    }\n",
       "\n",
       "    .dataframe thead th {\n",
       "        text-align: right;\n",
       "    }\n",
       "</style>\n",
       "<table border=\"1\" class=\"dataframe\">\n",
       "  <thead>\n",
       "    <tr style=\"text-align: right;\">\n",
       "      <th></th>\n",
       "      <th>uid</th>\n",
       "      <th>first_visit</th>\n",
       "      <th>order_date</th>\n",
       "      <th>revenue</th>\n",
       "      <th>count</th>\n",
       "      <th>user_browser</th>\n",
       "    </tr>\n",
       "    <tr>\n",
       "      <th>#</th>\n",
       "      <th></th>\n",
       "      <th></th>\n",
       "      <th></th>\n",
       "      <th></th>\n",
       "      <th></th>\n",
       "      <th></th>\n",
       "    </tr>\n",
       "  </thead>\n",
       "  <tbody>\n",
       "    <tr>\n",
       "      <th>1</th>\n",
       "      <td>6003595</td>\n",
       "      <td>2020-11-27</td>\n",
       "      <td>2020-12-07</td>\n",
       "      <td>219.00</td>\n",
       "      <td>1</td>\n",
       "      <td>edge</td>\n",
       "    </tr>\n",
       "    <tr>\n",
       "      <th>2</th>\n",
       "      <td>115095095</td>\n",
       "      <td>2020-12-06</td>\n",
       "      <td>2020-12-06</td>\n",
       "      <td>1990.00</td>\n",
       "      <td>1</td>\n",
       "      <td>chrome</td>\n",
       "    </tr>\n",
       "    <tr>\n",
       "      <th>3</th>\n",
       "      <td>144829298</td>\n",
       "      <td>2020-12-06</td>\n",
       "      <td>2020-12-06</td>\n",
       "      <td>3199.00</td>\n",
       "      <td>1</td>\n",
       "      <td>safari</td>\n",
       "    </tr>\n",
       "    <tr>\n",
       "      <th>4</th>\n",
       "      <td>53767165</td>\n",
       "      <td>2020-09-22</td>\n",
       "      <td>2020-12-01</td>\n",
       "      <td>24083.00</td>\n",
       "      <td>7</td>\n",
       "      <td>chrome</td>\n",
       "    </tr>\n",
       "    <tr>\n",
       "      <th>5</th>\n",
       "      <td>2188103</td>\n",
       "      <td>2020-12-05</td>\n",
       "      <td>2020-12-06</td>\n",
       "      <td>1484.91</td>\n",
       "      <td>6</td>\n",
       "      <td>chrome</td>\n",
       "    </tr>\n",
       "  </tbody>\n",
       "</table>\n",
       "</div>"
      ],
      "text/plain": [
       "         uid first_visit order_date   revenue  count user_browser\n",
       "#                                                                \n",
       "1    6003595  2020-11-27 2020-12-07    219.00      1         edge\n",
       "2  115095095  2020-12-06 2020-12-06   1990.00      1       chrome\n",
       "3  144829298  2020-12-06 2020-12-06   3199.00      1       safari\n",
       "4   53767165  2020-09-22 2020-12-01  24083.00      7       chrome\n",
       "5    2188103  2020-12-05 2020-12-06   1484.91      6       chrome"
      ]
     },
     "execution_count": 40,
     "metadata": {},
     "output_type": "execute_result"
    }
   ],
   "source": [
    "df.head()"
   ]
  },
  {
   "cell_type": "code",
   "execution_count": 41,
   "id": "35b9a045",
   "metadata": {},
   "outputs": [
    {
     "data": {
      "text/plain": [
       "Text(0, 0.5, 'Кол-о уникальных пользователей')"
      ]
     },
     "execution_count": 41,
     "metadata": {},
     "output_type": "execute_result"
    },
    {
     "data": {
      "image/png": "[encoded data removed]",
      "text/plain": [
       "<Figure size 1080x504 with 1 Axes>"
      ]
     },
     "metadata": {
      "needs_background": "light"
     },
     "output_type": "display_data"
    }
   ],
   "source": [
    "# посмотрим на график посейщаемости сайта уникальными пользователями\n",
    "df_d = (\n",
    "    df.groupby(\"first_visit\")\n",
    "    .agg({\"uid\": \"nunique\"})\n",
    "    .sort_values(\"first_visit\")\n",
    ")\n",
    "df_d.plot(figsize= (15, 7))\n",
    "plt.xlabel(\"Дата первого посещения\")\n",
    "plt.ylabel(\"Кол-о уникальных пользователей\")"
   ]
  },
  {
   "cell_type": "markdown",
   "id": "e1543254",
   "metadata": {},
   "source": [
    "#### самое большое кол-о посейщений в декабре"
   ]
  },
  {
   "cell_type": "code",
   "execution_count": 42,
   "id": "6510ef47",
   "metadata": {},
   "outputs": [
    {
     "data": {
      "text/plain": [
       "Text(0, 0.5, 'Кол-о уникальных пользователей')"
      ]
     },
     "execution_count": 42,
     "metadata": {},
     "output_type": "execute_result"
    },
    {
     "data": {
      "image/png": "[encoded data removed]",
      "text/plain": [
       "<Figure size 1080x504 with 1 Axes>"
      ]
     },
     "metadata": {
      "needs_background": "light"
     },
     "output_type": "display_data"
    }
   ],
   "source": [
    "# посмотрим на график покупок уникальными пользователями\n",
    "df_d = (\n",
    "    df.groupby(\"order_date\")\n",
    "    .agg({\"uid\": \"nunique\"})\n",
    "    .sort_values(\"order_date\")\n",
    ")\n",
    "df_d.plot(figsize= (15, 7))\n",
    "plt.xlabel(\"Дата покупки\")\n",
    "plt.ylabel(\"Кол-о уникальных пользователей\")"
   ]
  },
  {
   "cell_type": "code",
   "execution_count": 43,
   "id": "c6395e4e",
   "metadata": {},
   "outputs": [
    {
     "data": {
      "text/plain": [
       "2020-12-06    193266\n",
       "2020-12-07     79809\n",
       "2020-12-04     30582\n",
       "2020-11-30     29009\n",
       "2020-12-01     25746\n",
       "2020-12-05     22504\n",
       "2020-12-02     21779\n",
       "2020-12-03     19551\n",
       "Name: order_date, dtype: int64"
      ]
     },
     "execution_count": 43,
     "metadata": {},
     "output_type": "execute_result"
    }
   ],
   "source": [
    "df.order_date.value_counts()"
   ]
  },
  {
   "cell_type": "markdown",
   "id": "26a39ecd",
   "metadata": {},
   "source": [
    "### покупки совершаются в основном на первой неделе декабря. и пика достигают на  вс"
   ]
  },
  {
   "cell_type": "markdown",
   "id": "f2411311",
   "metadata": {},
   "source": [
    "#### пик покупок приходится на декабрь, начало. точнее все покупки приходятся на декабрь. весь остальной год, пользователи лишь просматривают магазин не делая покупок. возможно магазин узко специализирован, предположим продает только елки. можно расширить ассортимент для того, что бы в другие времена года шли продажи"
   ]
  },
  {
   "cell_type": "code",
   "execution_count": 44,
   "id": "2a46b986",
   "metadata": {},
   "outputs": [
    {
     "data": {
      "text/plain": [
       "Text(0, 0.5, 'Суммарная выручка')"
      ]
     },
     "execution_count": 44,
     "metadata": {},
     "output_type": "execute_result"
    },
    {
     "data": {
      "image/png": "[encoded data removed]",
      "text/plain": [
       "<Figure size 1080x504 with 1 Axes>"
      ]
     },
     "metadata": {
      "needs_background": "light"
     },
     "output_type": "display_data"
    }
   ],
   "source": [
    "# так же можно взглянуть на график объемов продаж \n",
    "df_d = (\n",
    "    df.groupby(\"order_date\")\n",
    "    .agg({\"revenue\": \"sum\"})\n",
    "    .sort_values(\"order_date\")\n",
    ")\n",
    "df_d.plot(figsize= (15, 7))\n",
    "plt.xlabel(\"Дата покупки\")\n",
    "plt.ylabel(\"Суммарная выручка\")"
   ]
  },
  {
   "cell_type": "markdown",
   "id": "59e93a07",
   "metadata": {},
   "source": [
    "#### график выручки очень похож на график совершения покупок уникальными пользователями.\n",
    "### вывод напрашивается, что магазин торгует в основном зимним ассортиментом товара"
   ]
  },
  {
   "cell_type": "code",
   "execution_count": 45,
   "id": "f963ec38",
   "metadata": {},
   "outputs": [
    {
     "data": {
      "text/plain": [
       "Text(0, 0.5, 'Общее кол-о пользователей')"
      ]
     },
     "execution_count": 45,
     "metadata": {},
     "output_type": "execute_result"
    },
    {
     "data": {
      "image/png": "[encoded data removed]",
      "text/plain": [
       "<Figure size 1080x504 with 1 Axes>"
      ]
     },
     "metadata": {
      "needs_background": "light"
     },
     "output_type": "display_data"
    }
   ],
   "source": [
    "# посмотрим на график посейщаемости сайта пользователями\n",
    "df_d = (\n",
    "    df.groupby(\"first_visit\")\n",
    "    .agg({\"uid\": \"count\"})\n",
    "    .sort_values(\"first_visit\")\n",
    ")\n",
    "df_d.plot(figsize= (15, 7))\n",
    "plt.xlabel(\"Дата первого посещения\")\n",
    "plt.ylabel(\"Общее кол-о пользователей\")"
   ]
  },
  {
   "cell_type": "code",
   "execution_count": 46,
   "id": "a13a7341",
   "metadata": {},
   "outputs": [
    {
     "data": {
      "text/plain": [
       "Text(0, 0.5, 'Общее кол-о пользователей')"
      ]
     },
     "execution_count": 46,
     "metadata": {},
     "output_type": "execute_result"
    },
    {
     "data": {
      "image/png": "[encoded data removed]",
      "text/plain": [
       "<Figure size 1080x504 with 1 Axes>"
      ]
     },
     "metadata": {
      "needs_background": "light"
     },
     "output_type": "display_data"
    }
   ],
   "source": [
    "# посмотрим на график покупок пользователями\n",
    "df_d = (\n",
    "    df.groupby(\"order_date\")\n",
    "    .agg({\"uid\": \"count\"})\n",
    "    .sort_values(\"order_date\")\n",
    ")\n",
    "df_d.plot(figsize= (15, 7))\n",
    "plt.xlabel(\"Дата покупки\")\n",
    "plt.ylabel(\"Общее кол-о пользователей\")"
   ]
  },
  {
   "cell_type": "code",
   "execution_count": 47,
   "id": "a6ca3cd8",
   "metadata": {},
   "outputs": [
    {
     "data": {
      "text/html": [
       "<div>\n",
       "<style scoped>\n",
       "    .dataframe tbody tr th:only-of-type {\n",
       "        vertical-align: middle;\n",
       "    }\n",
       "\n",
       "    .dataframe tbody tr th {\n",
       "        vertical-align: top;\n",
       "    }\n",
       "\n",
       "    .dataframe thead th {\n",
       "        text-align: right;\n",
       "    }\n",
       "</style>\n",
       "<table border=\"1\" class=\"dataframe\">\n",
       "  <thead>\n",
       "    <tr style=\"text-align: right;\">\n",
       "      <th></th>\n",
       "      <th>uid</th>\n",
       "      <th>first_visit</th>\n",
       "      <th>order_date</th>\n",
       "      <th>revenue</th>\n",
       "      <th>count</th>\n",
       "      <th>user_browser</th>\n",
       "    </tr>\n",
       "    <tr>\n",
       "      <th>#</th>\n",
       "      <th></th>\n",
       "      <th></th>\n",
       "      <th></th>\n",
       "      <th></th>\n",
       "      <th></th>\n",
       "      <th></th>\n",
       "    </tr>\n",
       "  </thead>\n",
       "  <tbody>\n",
       "    <tr>\n",
       "      <th>1</th>\n",
       "      <td>6003595</td>\n",
       "      <td>2020-11-27</td>\n",
       "      <td>2020-12-07</td>\n",
       "      <td>219.00</td>\n",
       "      <td>1</td>\n",
       "      <td>edge</td>\n",
       "    </tr>\n",
       "    <tr>\n",
       "      <th>2</th>\n",
       "      <td>115095095</td>\n",
       "      <td>2020-12-06</td>\n",
       "      <td>2020-12-06</td>\n",
       "      <td>1990.00</td>\n",
       "      <td>1</td>\n",
       "      <td>chrome</td>\n",
       "    </tr>\n",
       "    <tr>\n",
       "      <th>3</th>\n",
       "      <td>144829298</td>\n",
       "      <td>2020-12-06</td>\n",
       "      <td>2020-12-06</td>\n",
       "      <td>3199.00</td>\n",
       "      <td>1</td>\n",
       "      <td>safari</td>\n",
       "    </tr>\n",
       "    <tr>\n",
       "      <th>4</th>\n",
       "      <td>53767165</td>\n",
       "      <td>2020-09-22</td>\n",
       "      <td>2020-12-01</td>\n",
       "      <td>24083.00</td>\n",
       "      <td>7</td>\n",
       "      <td>chrome</td>\n",
       "    </tr>\n",
       "    <tr>\n",
       "      <th>5</th>\n",
       "      <td>2188103</td>\n",
       "      <td>2020-12-05</td>\n",
       "      <td>2020-12-06</td>\n",
       "      <td>1484.91</td>\n",
       "      <td>6</td>\n",
       "      <td>chrome</td>\n",
       "    </tr>\n",
       "  </tbody>\n",
       "</table>\n",
       "</div>"
      ],
      "text/plain": [
       "         uid first_visit order_date   revenue  count user_browser\n",
       "#                                                                \n",
       "1    6003595  2020-11-27 2020-12-07    219.00      1         edge\n",
       "2  115095095  2020-12-06 2020-12-06   1990.00      1       chrome\n",
       "3  144829298  2020-12-06 2020-12-06   3199.00      1       safari\n",
       "4   53767165  2020-09-22 2020-12-01  24083.00      7       chrome\n",
       "5    2188103  2020-12-05 2020-12-06   1484.91      6       chrome"
      ]
     },
     "execution_count": 47,
     "metadata": {},
     "output_type": "execute_result"
    }
   ],
   "source": [
    "df.head()"
   ]
  },
  {
   "cell_type": "code",
   "execution_count": 49,
   "id": "f6ba117b",
   "metadata": {},
   "outputs": [
    {
     "data": {
      "text/plain": [
       "15530"
      ]
     },
     "execution_count": 49,
     "metadata": {},
     "output_type": "execute_result"
    }
   ],
   "source": [
    "# сколько есть пропусков в покупках\n",
    "df.revenue.isnull().sum()"
   ]
  },
  {
   "cell_type": "code",
   "execution_count": 51,
   "id": "2ba59e21",
   "metadata": {},
   "outputs": [
    {
     "data": {
      "text/plain": [
       "0.03677950768035695"
      ]
     },
     "execution_count": 51,
     "metadata": {},
     "output_type": "execute_result"
    }
   ],
   "source": [
    "df.revenue.isnull().mean()"
   ]
  },
  {
   "cell_type": "code",
   "execution_count": 49,
   "id": "4ec5a094",
   "metadata": {},
   "outputs": [
    {
     "data": {
      "text/plain": [
       "422246"
      ]
     },
     "execution_count": 49,
     "metadata": {},
     "output_type": "execute_result"
    }
   ],
   "source": [
    "df.shape[0]"
   ]
  },
  {
   "cell_type": "code",
   "execution_count": 50,
   "id": "689545fd",
   "metadata": {},
   "outputs": [
    {
     "name": "stdout",
     "output_type": "stream",
     "text": [
      "96.32%\n"
     ]
    }
   ],
   "source": [
    "# посмотрим на конверсияю посещения сайта в проданный товар\n",
    "print(\"{:.2f}%\".format((1 - df.revenue.isnull().mean())*100))"
   ]
  },
  {
   "cell_type": "markdown",
   "id": "9f17232f",
   "metadata": {},
   "source": [
    "#### конверсия хорошая"
   ]
  },
  {
   "cell_type": "code",
   "execution_count": 51,
   "id": "3c2270c7",
   "metadata": {},
   "outputs": [],
   "source": [
    "df_val = df.dropna(subset=[\"revenue\"])"
   ]
  },
  {
   "cell_type": "code",
   "execution_count": 52,
   "id": "0246c9b8",
   "metadata": {},
   "outputs": [
    {
     "data": {
      "text/plain": [
       "Text(0.5, 0, 'Логарифм выручка')"
      ]
     },
     "execution_count": 52,
     "metadata": {},
     "output_type": "execute_result"
    },
    {
     "data": {
      "image/png": "[encoded data removed]",
      "text/plain": [
       "<Figure size 1080x504 with 2 Axes>"
      ]
     },
     "metadata": {
      "needs_background": "light"
     },
     "output_type": "display_data"
    }
   ],
   "source": [
    "fig, axes = plt.subplots(1, 2, figsize = (15, 7))\n",
    "df_val[\"revenue\"].hist(bins=30, log = True, ax = axes[0])\n",
    "sns.histplot(\n",
    "    np.log(df_val[\"revenue\"] + 1),    \n",
    "    bins= 30, \n",
    "    kde = True,\n",
    "    ax = axes[1]\n",
    ")\n",
    "\n",
    "axes[0].set_title(\"Распределение выручки\")\n",
    "axes[0].set_xlabel(\"Выручка\")\n",
    "\n",
    "axes[1].set_title(\"Распределение лог-а выручки\")\n",
    "axes[1].set_xlabel(\"Логарифм выручка\")"
   ]
  },
  {
   "cell_type": "markdown",
   "id": "f942b6eb",
   "metadata": {},
   "source": [
    "## Наблюдается очень сильная зависимость продаж от сезона. Конверсия очень хорошая. В целом, как я понимаю, стратегия маркетинга данного магазина правильная. Для увилечения выручка можно подумать о расширении ассортимента товаром под другие сезоны"
   ]
  },
  {
   "cell_type": "code",
   "execution_count": null,
   "id": "08820149",
   "metadata": {},
   "outputs": [],
   "source": []
  }
 ],
 "metadata": {
  "kernelspec": {
   "display_name": "Python 3",
   "language": "python",
   "name": "python3"
  },
  "language_info": {
   "codemirror_mode": {
    "name": "ipython",
    "version": 3
   },
   "file_extension": ".py",
   "mimetype": "text/x-python",
   "name": "python",
   "nbconvert_exporter": "python",
   "pygments_lexer": "ipython3",
   "version": "3.8.10"
  }
 },
 "nbformat": 4,
 "nbformat_minor": 5
}
