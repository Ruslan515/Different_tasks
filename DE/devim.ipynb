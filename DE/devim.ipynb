{
 "cells": [
  {
   "cell_type": "code",
   "execution_count": null,
   "id": "a421a19f",
   "metadata": {},
   "outputs": [],
   "source": []
  },
  {
   "cell_type": "markdown",
   "id": "57fcc7fb",
   "metadata": {},
   "source": [
    "## Аналитика на python (сравнение скоринговых моделей)\n",
    "#### Команда Data Science сделала новую скоринговую модель (Модель 2). Для оценки качества новой модели провели ее сравнение с текущей моделью (Модель 1). Все заявки на кредит случайным образом перераспределялись между этими двумя моделями - 70% на старую и 30% на новую. Ваша задача сравнить две модели и выбрать лучшую для компании и обосновать свой выбор. Является ли полученная разница между моделями статистически значимой? "
   ]
  },
  {
   "cell_type": "code",
   "execution_count": 1,
   "id": "3c1b0de2",
   "metadata": {},
   "outputs": [],
   "source": [
    "import pandas as pd\n",
    "from sklearn.metrics import roc_auc_score, roc_curve, auc\n",
    "from sklearn.metrics import accuracy_score, precision_score, recall_score, f1_score\n",
    "from scipy import stats\n",
    "import matplotlib.pyplot as plt\n",
    "%matplotlib inline"
   ]
  },
  {
   "cell_type": "code",
   "execution_count": 2,
   "id": "d3005ee0",
   "metadata": {},
   "outputs": [
    {
     "data": {
      "text/plain": [
       "(213400, 5)"
      ]
     },
     "execution_count": 2,
     "metadata": {},
     "output_type": "execute_result"
    }
   ],
   "source": [
    "file_1 = \"model1.csv\"\n",
    "file_2 = \"model2.csv\"\n",
    "df_1 = pd.read_csv(file_1)\n",
    "df_2 = pd.read_csv(file_2)\n",
    "df_1.shape"
   ]
  },
  {
   "cell_type": "code",
   "execution_count": 3,
   "id": "0c8e308b",
   "metadata": {},
   "outputs": [
    {
     "data": {
      "text/plain": [
       "(91167, 5)"
      ]
     },
     "execution_count": 3,
     "metadata": {},
     "output_type": "execute_result"
    }
   ],
   "source": [
    "df_2.shape"
   ]
  },
  {
   "cell_type": "code",
   "execution_count": 4,
   "id": "5bc9011a",
   "metadata": {},
   "outputs": [
    {
     "data": {
      "text/html": [
       "<div>\n",
       "<style scoped>\n",
       "    .dataframe tbody tr th:only-of-type {\n",
       "        vertical-align: middle;\n",
       "    }\n",
       "\n",
       "    .dataframe tbody tr th {\n",
       "        vertical-align: top;\n",
       "    }\n",
       "\n",
       "    .dataframe thead th {\n",
       "        text-align: right;\n",
       "    }\n",
       "</style>\n",
       "<table border=\"1\" class=\"dataframe\">\n",
       "  <thead>\n",
       "    <tr style=\"text-align: right;\">\n",
       "      <th></th>\n",
       "      <th>is_approved</th>\n",
       "      <th>is_issued</th>\n",
       "      <th>is_delay</th>\n",
       "      <th>approved_sum</th>\n",
       "      <th>payment_sum</th>\n",
       "    </tr>\n",
       "  </thead>\n",
       "  <tbody>\n",
       "    <tr>\n",
       "      <th>0</th>\n",
       "      <td>1</td>\n",
       "      <td>1</td>\n",
       "      <td>0</td>\n",
       "      <td>17000</td>\n",
       "      <td>16000</td>\n",
       "    </tr>\n",
       "    <tr>\n",
       "      <th>1</th>\n",
       "      <td>0</td>\n",
       "      <td>0</td>\n",
       "      <td>0</td>\n",
       "      <td>0</td>\n",
       "      <td>0</td>\n",
       "    </tr>\n",
       "    <tr>\n",
       "      <th>2</th>\n",
       "      <td>0</td>\n",
       "      <td>0</td>\n",
       "      <td>0</td>\n",
       "      <td>0</td>\n",
       "      <td>0</td>\n",
       "    </tr>\n",
       "    <tr>\n",
       "      <th>3</th>\n",
       "      <td>0</td>\n",
       "      <td>0</td>\n",
       "      <td>0</td>\n",
       "      <td>0</td>\n",
       "      <td>0</td>\n",
       "    </tr>\n",
       "    <tr>\n",
       "      <th>4</th>\n",
       "      <td>1</td>\n",
       "      <td>1</td>\n",
       "      <td>0</td>\n",
       "      <td>19500</td>\n",
       "      <td>14500</td>\n",
       "    </tr>\n",
       "  </tbody>\n",
       "</table>\n",
       "</div>"
      ],
      "text/plain": [
       "   is_approved  is_issued  is_delay  approved_sum  payment_sum\n",
       "0            1          1         0         17000        16000\n",
       "1            0          0         0             0            0\n",
       "2            0          0         0             0            0\n",
       "3            0          0         0             0            0\n",
       "4            1          1         0         19500        14500"
      ]
     },
     "execution_count": 4,
     "metadata": {},
     "output_type": "execute_result"
    }
   ],
   "source": [
    "df_1.head()"
   ]
  },
  {
   "cell_type": "code",
   "execution_count": 5,
   "id": "485be51b",
   "metadata": {},
   "outputs": [
    {
     "data": {
      "text/html": [
       "<div>\n",
       "<style scoped>\n",
       "    .dataframe tbody tr th:only-of-type {\n",
       "        vertical-align: middle;\n",
       "    }\n",
       "\n",
       "    .dataframe tbody tr th {\n",
       "        vertical-align: top;\n",
       "    }\n",
       "\n",
       "    .dataframe thead th {\n",
       "        text-align: right;\n",
       "    }\n",
       "</style>\n",
       "<table border=\"1\" class=\"dataframe\">\n",
       "  <thead>\n",
       "    <tr style=\"text-align: right;\">\n",
       "      <th></th>\n",
       "      <th>is_approved</th>\n",
       "      <th>is_issued</th>\n",
       "      <th>is_delay</th>\n",
       "      <th>approved_sum</th>\n",
       "      <th>payment_sum</th>\n",
       "    </tr>\n",
       "  </thead>\n",
       "  <tbody>\n",
       "    <tr>\n",
       "      <th>0</th>\n",
       "      <td>1</td>\n",
       "      <td>1</td>\n",
       "      <td>0</td>\n",
       "      <td>13500</td>\n",
       "      <td>16500</td>\n",
       "    </tr>\n",
       "    <tr>\n",
       "      <th>1</th>\n",
       "      <td>1</td>\n",
       "      <td>0</td>\n",
       "      <td>0</td>\n",
       "      <td>13500</td>\n",
       "      <td>0</td>\n",
       "    </tr>\n",
       "    <tr>\n",
       "      <th>2</th>\n",
       "      <td>1</td>\n",
       "      <td>1</td>\n",
       "      <td>1</td>\n",
       "      <td>10500</td>\n",
       "      <td>0</td>\n",
       "    </tr>\n",
       "    <tr>\n",
       "      <th>3</th>\n",
       "      <td>1</td>\n",
       "      <td>1</td>\n",
       "      <td>0</td>\n",
       "      <td>14500</td>\n",
       "      <td>17000</td>\n",
       "    </tr>\n",
       "    <tr>\n",
       "      <th>4</th>\n",
       "      <td>1</td>\n",
       "      <td>1</td>\n",
       "      <td>0</td>\n",
       "      <td>13500</td>\n",
       "      <td>15000</td>\n",
       "    </tr>\n",
       "  </tbody>\n",
       "</table>\n",
       "</div>"
      ],
      "text/plain": [
       "   is_approved  is_issued  is_delay  approved_sum  payment_sum\n",
       "0            1          1         0         13500        16500\n",
       "1            1          0         0         13500            0\n",
       "2            1          1         1         10500            0\n",
       "3            1          1         0         14500        17000\n",
       "4            1          1         0         13500        15000"
      ]
     },
     "execution_count": 5,
     "metadata": {},
     "output_type": "execute_result"
    }
   ],
   "source": [
    "df_2.head()"
   ]
  },
  {
   "cell_type": "code",
   "execution_count": 6,
   "id": "87875dfb",
   "metadata": {},
   "outputs": [
    {
     "name": "stdout",
     "output_type": "stream",
     "text": [
      "<class 'pandas.core.frame.DataFrame'>\n",
      "RangeIndex: 213400 entries, 0 to 213399\n",
      "Data columns (total 5 columns):\n",
      " #   Column        Non-Null Count   Dtype\n",
      "---  ------        --------------   -----\n",
      " 0   is_approved   213400 non-null  int64\n",
      " 1   is_issued     213400 non-null  int64\n",
      " 2   is_delay      213400 non-null  int64\n",
      " 3   approved_sum  213400 non-null  int64\n",
      " 4   payment_sum   213400 non-null  int64\n",
      "dtypes: int64(5)\n",
      "memory usage: 8.1 MB\n"
     ]
    }
   ],
   "source": [
    "df_1.info()"
   ]
  },
  {
   "cell_type": "code",
   "execution_count": 7,
   "id": "9ab21145",
   "metadata": {},
   "outputs": [
    {
     "name": "stdout",
     "output_type": "stream",
     "text": [
      "<class 'pandas.core.frame.DataFrame'>\n",
      "RangeIndex: 91167 entries, 0 to 91166\n",
      "Data columns (total 5 columns):\n",
      " #   Column        Non-Null Count  Dtype\n",
      "---  ------        --------------  -----\n",
      " 0   is_approved   91167 non-null  int64\n",
      " 1   is_issued     91167 non-null  int64\n",
      " 2   is_delay      91167 non-null  int64\n",
      " 3   approved_sum  91167 non-null  int64\n",
      " 4   payment_sum   91167 non-null  int64\n",
      "dtypes: int64(5)\n",
      "memory usage: 3.5 MB\n"
     ]
    }
   ],
   "source": [
    "df_2.info()"
   ]
  },
  {
   "cell_type": "code",
   "execution_count": 8,
   "id": "8fa38e43",
   "metadata": {},
   "outputs": [],
   "source": [
    "shape_1 = df_1.shape[0]\n",
    "shape_2 = df_2.shape[0]"
   ]
  },
  {
   "cell_type": "code",
   "execution_count": 9,
   "id": "a48d984d",
   "metadata": {},
   "outputs": [
    {
     "name": "stdout",
     "output_type": "stream",
     "text": [
      "Модель1. кол-о одобренных = 106783. кол-о отказов = 106617\n",
      "Модель1. кол-о выданных = 85410. кол-о не выданных = 127990\n",
      "Модель1. кол-о просроченных = 8543. кол-о не просроченных = 204857\n",
      "Модель1. нормированная общая одобренная сумма = 7505.08\n",
      "Модель1. нормированная сумма всех платежей = 6158.90\n"
     ]
    }
   ],
   "source": [
    "ap = df_1.is_approved.sum()\n",
    "nap = shape_1 - ap\n",
    "print(\"Модель1. кол-о одобренных = {}. кол-о отказов = {}\".format(ap,nap ))\n",
    "\n",
    "iss = df_1.is_issued.sum()\n",
    "niss = shape_1 - iss\n",
    "print(\"Модель1. кол-о выданных = {}. кол-о не выданных = {}\".format(iss, niss ))\n",
    "\n",
    "delay = df_1.is_delay.sum()\n",
    "ndelay = shape_1 - delay\n",
    "print(\"Модель1. кол-о просроченных = {}. кол-о не просроченных = {}\".format(delay, ndelay))\n",
    "\n",
    "print(\"Модель1. нормированная общая одобренная сумма = {:.2f}\".format(df_1.approved_sum.sum() / shape_1))\n",
    "print(\"Модель1. нормированная сумма всех платежей = {:.2f}\".format(df_1.payment_sum.sum() / shape_1))"
   ]
  },
  {
   "cell_type": "code",
   "execution_count": 10,
   "id": "2d00ade9",
   "metadata": {},
   "outputs": [
    {
     "name": "stdout",
     "output_type": "stream",
     "text": [
      "Модель2. кол-о одобренных = 50292. кол-о отказов = 40875\n",
      "Модель2. кол-о выданных = 38824. кол-о не выданных = 52343\n",
      "Модель2. кол-о просроченных = 5417. кол-о не просроченных = 85750\n",
      "Модель2. нормированная общая одобренная сумма = 17567.58\n",
      "Модель2. нормированная сумма всех платежей = 14416.49\n"
     ]
    }
   ],
   "source": [
    "ap = df_2.is_approved.sum()\n",
    "nap = shape_2 - ap\n",
    "print(\"Модель2. кол-о одобренных = {}. кол-о отказов = {}\".format(ap,nap ))\n",
    "\n",
    "iss = df_2.is_issued.sum()\n",
    "niss = shape_2 - iss\n",
    "print(\"Модель2. кол-о выданных = {}. кол-о не выданных = {}\".format(iss, niss ))\n",
    "\n",
    "delay = df_2.is_delay.sum()\n",
    "ndelay = shape_2 - delay\n",
    "print(\"Модель2. кол-о просроченных = {}. кол-о не просроченных = {}\".format(delay, ndelay))\n",
    "\n",
    "\n",
    "print(\"Модель2. нормированная общая одобренная сумма = {:.2f}\".format(df_1.approved_sum.sum() / shape_2))\n",
    "print(\"Модель2. нормированная сумма всех платежей = {:.2f}\".format(df_1.payment_sum.sum() / shape_2))"
   ]
  },
  {
   "cell_type": "markdown",
   "id": "01be2ddb",
   "metadata": {},
   "source": [
    "### Данные в обехи моделях имеют сильный дисбаланс:\n",
    "#### 1. Модель1. кол-о просроченных = 8543. кол-о не просроченных = 204857\n",
    "#### 1. Модель2. кол-о просроченных = 5417. кол-о не просроченных = 85750\n",
    "### is_issued - фича которую мы предсказываем( выдавать кредит или нет)\n",
    "### is_delay - наша целевая фича. цель выдать кредит, что бы при этом он не вошел в число просроченных"
   ]
  },
  {
   "cell_type": "code",
   "execution_count": 12,
   "id": "153fb1be",
   "metadata": {},
   "outputs": [
    {
     "data": {
      "text/html": [
       "<div>\n",
       "<style scoped>\n",
       "    .dataframe tbody tr th:only-of-type {\n",
       "        vertical-align: middle;\n",
       "    }\n",
       "\n",
       "    .dataframe tbody tr th {\n",
       "        vertical-align: top;\n",
       "    }\n",
       "\n",
       "    .dataframe thead th {\n",
       "        text-align: right;\n",
       "    }\n",
       "</style>\n",
       "<table border=\"1\" class=\"dataframe\">\n",
       "  <thead>\n",
       "    <tr style=\"text-align: right;\">\n",
       "      <th></th>\n",
       "      <th>is_approved</th>\n",
       "      <th>is_issued</th>\n",
       "      <th>is_delay</th>\n",
       "      <th>approved_sum</th>\n",
       "      <th>payment_sum</th>\n",
       "    </tr>\n",
       "  </thead>\n",
       "  <tbody>\n",
       "    <tr>\n",
       "      <th>7</th>\n",
       "      <td>1</td>\n",
       "      <td>0</td>\n",
       "      <td>0</td>\n",
       "      <td>15000</td>\n",
       "      <td>0</td>\n",
       "    </tr>\n",
       "    <tr>\n",
       "      <th>16</th>\n",
       "      <td>1</td>\n",
       "      <td>0</td>\n",
       "      <td>0</td>\n",
       "      <td>17000</td>\n",
       "      <td>0</td>\n",
       "    </tr>\n",
       "    <tr>\n",
       "      <th>79</th>\n",
       "      <td>1</td>\n",
       "      <td>0</td>\n",
       "      <td>0</td>\n",
       "      <td>20000</td>\n",
       "      <td>0</td>\n",
       "    </tr>\n",
       "    <tr>\n",
       "      <th>81</th>\n",
       "      <td>1</td>\n",
       "      <td>0</td>\n",
       "      <td>0</td>\n",
       "      <td>14000</td>\n",
       "      <td>0</td>\n",
       "    </tr>\n",
       "    <tr>\n",
       "      <th>87</th>\n",
       "      <td>1</td>\n",
       "      <td>0</td>\n",
       "      <td>0</td>\n",
       "      <td>15500</td>\n",
       "      <td>0</td>\n",
       "    </tr>\n",
       "  </tbody>\n",
       "</table>\n",
       "</div>"
      ],
      "text/plain": [
       "    is_approved  is_issued  is_delay  approved_sum  payment_sum\n",
       "7             1          0         0         15000            0\n",
       "16            1          0         0         17000            0\n",
       "79            1          0         0         20000            0\n",
       "81            1          0         0         14000            0\n",
       "87            1          0         0         15500            0"
      ]
     },
     "execution_count": 12,
     "metadata": {},
     "output_type": "execute_result"
    }
   ],
   "source": [
    "# заявки которые одобрены, но почему то не выданы\n",
    "mask = (df_1.is_approved == 1) & (df_1.is_issued == 0)\n",
    "df_1[mask].head()"
   ]
  },
  {
   "cell_type": "code",
   "execution_count": 13,
   "id": "048ad2f5",
   "metadata": {},
   "outputs": [
    {
     "data": {
      "text/plain": [
       "21373"
      ]
     },
     "execution_count": 13,
     "metadata": {},
     "output_type": "execute_result"
    }
   ],
   "source": [
    "df_1[mask].shape[0]"
   ]
  },
  {
   "cell_type": "code",
   "execution_count": 14,
   "id": "8c76d0b9",
   "metadata": {},
   "outputs": [
    {
     "data": {
      "text/html": [
       "<div>\n",
       "<style scoped>\n",
       "    .dataframe tbody tr th:only-of-type {\n",
       "        vertical-align: middle;\n",
       "    }\n",
       "\n",
       "    .dataframe tbody tr th {\n",
       "        vertical-align: top;\n",
       "    }\n",
       "\n",
       "    .dataframe thead th {\n",
       "        text-align: right;\n",
       "    }\n",
       "</style>\n",
       "<table border=\"1\" class=\"dataframe\">\n",
       "  <thead>\n",
       "    <tr style=\"text-align: right;\">\n",
       "      <th></th>\n",
       "      <th>is_approved</th>\n",
       "      <th>is_issued</th>\n",
       "      <th>is_delay</th>\n",
       "      <th>approved_sum</th>\n",
       "      <th>payment_sum</th>\n",
       "    </tr>\n",
       "  </thead>\n",
       "  <tbody>\n",
       "  </tbody>\n",
       "</table>\n",
       "</div>"
      ],
      "text/plain": [
       "Empty DataFrame\n",
       "Columns: [is_approved, is_issued, is_delay, approved_sum, payment_sum]\n",
       "Index: []"
      ]
     },
     "execution_count": 14,
     "metadata": {},
     "output_type": "execute_result"
    }
   ],
   "source": [
    "# заявки которые не одобрены, но выданы. как и следовала ожидать - список пуст))\n",
    "mask = (df_1.is_approved == 0) & (df_1.is_issued == 1)\n",
    "df_1[mask].head()"
   ]
  },
  {
   "cell_type": "code",
   "execution_count": 15,
   "id": "a5b531c8",
   "metadata": {},
   "outputs": [
    {
     "data": {
      "text/html": [
       "<div>\n",
       "<style scoped>\n",
       "    .dataframe tbody tr th:only-of-type {\n",
       "        vertical-align: middle;\n",
       "    }\n",
       "\n",
       "    .dataframe tbody tr th {\n",
       "        vertical-align: top;\n",
       "    }\n",
       "\n",
       "    .dataframe thead th {\n",
       "        text-align: right;\n",
       "    }\n",
       "</style>\n",
       "<table border=\"1\" class=\"dataframe\">\n",
       "  <thead>\n",
       "    <tr style=\"text-align: right;\">\n",
       "      <th></th>\n",
       "      <th>is_approved</th>\n",
       "      <th>is_issued</th>\n",
       "      <th>is_delay</th>\n",
       "      <th>approved_sum</th>\n",
       "      <th>payment_sum</th>\n",
       "    </tr>\n",
       "  </thead>\n",
       "  <tbody>\n",
       "    <tr>\n",
       "      <th>0</th>\n",
       "      <td>1</td>\n",
       "      <td>1</td>\n",
       "      <td>0</td>\n",
       "      <td>17000</td>\n",
       "      <td>16000</td>\n",
       "    </tr>\n",
       "    <tr>\n",
       "      <th>4</th>\n",
       "      <td>1</td>\n",
       "      <td>1</td>\n",
       "      <td>0</td>\n",
       "      <td>19500</td>\n",
       "      <td>14500</td>\n",
       "    </tr>\n",
       "    <tr>\n",
       "      <th>8</th>\n",
       "      <td>1</td>\n",
       "      <td>1</td>\n",
       "      <td>0</td>\n",
       "      <td>12000</td>\n",
       "      <td>18500</td>\n",
       "    </tr>\n",
       "    <tr>\n",
       "      <th>9</th>\n",
       "      <td>1</td>\n",
       "      <td>1</td>\n",
       "      <td>1</td>\n",
       "      <td>16000</td>\n",
       "      <td>0</td>\n",
       "    </tr>\n",
       "    <tr>\n",
       "      <th>13</th>\n",
       "      <td>1</td>\n",
       "      <td>1</td>\n",
       "      <td>1</td>\n",
       "      <td>14000</td>\n",
       "      <td>0</td>\n",
       "    </tr>\n",
       "  </tbody>\n",
       "</table>\n",
       "</div>"
      ],
      "text/plain": [
       "    is_approved  is_issued  is_delay  approved_sum  payment_sum\n",
       "0             1          1         0         17000        16000\n",
       "4             1          1         0         19500        14500\n",
       "8             1          1         0         12000        18500\n",
       "9             1          1         1         16000            0\n",
       "13            1          1         1         14000            0"
      ]
     },
     "execution_count": 15,
     "metadata": {},
     "output_type": "execute_result"
    }
   ],
   "source": [
    "# заявки которые одобрены и выданы\n",
    "mask = (df_1.is_approved == 1) & (df_1.is_issued == 1)\n",
    "df_1[mask].head()"
   ]
  },
  {
   "cell_type": "code",
   "execution_count": 16,
   "id": "0f4b113c",
   "metadata": {},
   "outputs": [
    {
     "data": {
      "text/plain": [
       "85410"
      ]
     },
     "execution_count": 16,
     "metadata": {},
     "output_type": "execute_result"
    }
   ],
   "source": [
    "df_1[mask].shape[0]"
   ]
  },
  {
   "cell_type": "code",
   "execution_count": 17,
   "id": "014f4903",
   "metadata": {},
   "outputs": [
    {
     "data": {
      "text/plain": [
       "106617"
      ]
     },
     "execution_count": 17,
     "metadata": {},
     "output_type": "execute_result"
    }
   ],
   "source": [
    "# заявки которые не одобренны и не выданы\n",
    "mask = (df_1.is_approved == 0) & (df_1.is_issued == 0)\n",
    "df_1[mask].shape[0]"
   ]
  },
  {
   "cell_type": "code",
   "execution_count": 18,
   "id": "a9f29080",
   "metadata": {},
   "outputs": [
    {
     "data": {
      "text/plain": [
       "0.2040525230467729"
      ]
     },
     "execution_count": 18,
     "metadata": {},
     "output_type": "execute_result"
    }
   ],
   "source": [
    "df_1.is_approved.corr(df_1.is_delay)"
   ]
  },
  {
   "cell_type": "code",
   "execution_count": 19,
   "id": "a4eb1db1",
   "metadata": {},
   "outputs": [
    {
     "data": {
      "text/plain": [
       "0.24998471641281697"
      ]
     },
     "execution_count": 19,
     "metadata": {},
     "output_type": "execute_result"
    }
   ],
   "source": [
    "df_1.is_issued.corr(df_1.is_delay)"
   ]
  },
  {
   "cell_type": "code",
   "execution_count": 20,
   "id": "79a9b0d6",
   "metadata": {},
   "outputs": [
    {
     "data": {
      "text/plain": [
       "0.8162599937102012"
      ]
     },
     "execution_count": 20,
     "metadata": {},
     "output_type": "execute_result"
    }
   ],
   "source": [
    "df_1.is_approved.corr(df_1.is_issued)"
   ]
  },
  {
   "cell_type": "code",
   "execution_count": 21,
   "id": "848520b7",
   "metadata": {},
   "outputs": [
    {
     "data": {
      "text/html": [
       "<div>\n",
       "<style scoped>\n",
       "    .dataframe tbody tr th:only-of-type {\n",
       "        vertical-align: middle;\n",
       "    }\n",
       "\n",
       "    .dataframe tbody tr th {\n",
       "        vertical-align: top;\n",
       "    }\n",
       "\n",
       "    .dataframe thead th {\n",
       "        text-align: right;\n",
       "    }\n",
       "</style>\n",
       "<table border=\"1\" class=\"dataframe\">\n",
       "  <thead>\n",
       "    <tr style=\"text-align: right;\">\n",
       "      <th></th>\n",
       "      <th>is_approved</th>\n",
       "      <th>is_issued</th>\n",
       "      <th>is_delay</th>\n",
       "      <th>approved_sum</th>\n",
       "      <th>payment_sum</th>\n",
       "    </tr>\n",
       "  </thead>\n",
       "  <tbody>\n",
       "    <tr>\n",
       "      <th>0</th>\n",
       "      <td>1</td>\n",
       "      <td>1</td>\n",
       "      <td>0</td>\n",
       "      <td>17000</td>\n",
       "      <td>16000</td>\n",
       "    </tr>\n",
       "    <tr>\n",
       "      <th>1</th>\n",
       "      <td>0</td>\n",
       "      <td>0</td>\n",
       "      <td>0</td>\n",
       "      <td>0</td>\n",
       "      <td>0</td>\n",
       "    </tr>\n",
       "    <tr>\n",
       "      <th>2</th>\n",
       "      <td>0</td>\n",
       "      <td>0</td>\n",
       "      <td>0</td>\n",
       "      <td>0</td>\n",
       "      <td>0</td>\n",
       "    </tr>\n",
       "    <tr>\n",
       "      <th>3</th>\n",
       "      <td>0</td>\n",
       "      <td>0</td>\n",
       "      <td>0</td>\n",
       "      <td>0</td>\n",
       "      <td>0</td>\n",
       "    </tr>\n",
       "    <tr>\n",
       "      <th>4</th>\n",
       "      <td>1</td>\n",
       "      <td>1</td>\n",
       "      <td>0</td>\n",
       "      <td>19500</td>\n",
       "      <td>14500</td>\n",
       "    </tr>\n",
       "  </tbody>\n",
       "</table>\n",
       "</div>"
      ],
      "text/plain": [
       "   is_approved  is_issued  is_delay  approved_sum  payment_sum\n",
       "0            1          1         0         17000        16000\n",
       "1            0          0         0             0            0\n",
       "2            0          0         0             0            0\n",
       "3            0          0         0             0            0\n",
       "4            1          1         0         19500        14500"
      ]
     },
     "execution_count": 21,
     "metadata": {},
     "output_type": "execute_result"
    }
   ],
   "source": [
    "df_1.head()"
   ]
  },
  {
   "cell_type": "code",
   "execution_count": 22,
   "id": "35532573",
   "metadata": {},
   "outputs": [
    {
     "data": {
      "text/html": [
       "<div>\n",
       "<style scoped>\n",
       "    .dataframe tbody tr th:only-of-type {\n",
       "        vertical-align: middle;\n",
       "    }\n",
       "\n",
       "    .dataframe tbody tr th {\n",
       "        vertical-align: top;\n",
       "    }\n",
       "\n",
       "    .dataframe thead th {\n",
       "        text-align: right;\n",
       "    }\n",
       "</style>\n",
       "<table border=\"1\" class=\"dataframe\">\n",
       "  <thead>\n",
       "    <tr style=\"text-align: right;\">\n",
       "      <th></th>\n",
       "      <th>is_approved</th>\n",
       "      <th>is_issued</th>\n",
       "      <th>is_delay</th>\n",
       "      <th>approved_sum</th>\n",
       "      <th>payment_sum</th>\n",
       "    </tr>\n",
       "  </thead>\n",
       "  <tbody>\n",
       "    <tr>\n",
       "      <th>0</th>\n",
       "      <td>1</td>\n",
       "      <td>1</td>\n",
       "      <td>0</td>\n",
       "      <td>17000</td>\n",
       "      <td>16000</td>\n",
       "    </tr>\n",
       "    <tr>\n",
       "      <th>4</th>\n",
       "      <td>1</td>\n",
       "      <td>1</td>\n",
       "      <td>0</td>\n",
       "      <td>19500</td>\n",
       "      <td>14500</td>\n",
       "    </tr>\n",
       "    <tr>\n",
       "      <th>8</th>\n",
       "      <td>1</td>\n",
       "      <td>1</td>\n",
       "      <td>0</td>\n",
       "      <td>12000</td>\n",
       "      <td>18500</td>\n",
       "    </tr>\n",
       "    <tr>\n",
       "      <th>14</th>\n",
       "      <td>1</td>\n",
       "      <td>1</td>\n",
       "      <td>0</td>\n",
       "      <td>15000</td>\n",
       "      <td>16500</td>\n",
       "    </tr>\n",
       "    <tr>\n",
       "      <th>18</th>\n",
       "      <td>1</td>\n",
       "      <td>1</td>\n",
       "      <td>0</td>\n",
       "      <td>14000</td>\n",
       "      <td>17500</td>\n",
       "    </tr>\n",
       "  </tbody>\n",
       "</table>\n",
       "</div>"
      ],
      "text/plain": [
       "    is_approved  is_issued  is_delay  approved_sum  payment_sum\n",
       "0             1          1         0         17000        16000\n",
       "4             1          1         0         19500        14500\n",
       "8             1          1         0         12000        18500\n",
       "14            1          1         0         15000        16500\n",
       "18            1          1         0         14000        17500"
      ]
     },
     "execution_count": 22,
     "metadata": {},
     "output_type": "execute_result"
    }
   ],
   "source": [
    "# кредит выдан и не просрочен (положительное для нас значение)\n",
    "mask = (df_1.is_issued == 1) & (df_1.is_delay == 0)\n",
    "df_1[mask].head()"
   ]
  },
  {
   "cell_type": "code",
   "execution_count": 23,
   "id": "7f951f40",
   "metadata": {},
   "outputs": [
    {
     "data": {
      "text/html": [
       "<div>\n",
       "<style scoped>\n",
       "    .dataframe tbody tr th:only-of-type {\n",
       "        vertical-align: middle;\n",
       "    }\n",
       "\n",
       "    .dataframe tbody tr th {\n",
       "        vertical-align: top;\n",
       "    }\n",
       "\n",
       "    .dataframe thead th {\n",
       "        text-align: right;\n",
       "    }\n",
       "</style>\n",
       "<table border=\"1\" class=\"dataframe\">\n",
       "  <thead>\n",
       "    <tr style=\"text-align: right;\">\n",
       "      <th></th>\n",
       "      <th>is_approved</th>\n",
       "      <th>is_issued</th>\n",
       "      <th>is_delay</th>\n",
       "      <th>approved_sum</th>\n",
       "      <th>payment_sum</th>\n",
       "    </tr>\n",
       "  </thead>\n",
       "  <tbody>\n",
       "    <tr>\n",
       "      <th>9</th>\n",
       "      <td>1</td>\n",
       "      <td>1</td>\n",
       "      <td>1</td>\n",
       "      <td>16000</td>\n",
       "      <td>0</td>\n",
       "    </tr>\n",
       "    <tr>\n",
       "      <th>13</th>\n",
       "      <td>1</td>\n",
       "      <td>1</td>\n",
       "      <td>1</td>\n",
       "      <td>14000</td>\n",
       "      <td>0</td>\n",
       "    </tr>\n",
       "    <tr>\n",
       "      <th>23</th>\n",
       "      <td>1</td>\n",
       "      <td>1</td>\n",
       "      <td>1</td>\n",
       "      <td>15000</td>\n",
       "      <td>3500</td>\n",
       "    </tr>\n",
       "    <tr>\n",
       "      <th>44</th>\n",
       "      <td>1</td>\n",
       "      <td>1</td>\n",
       "      <td>1</td>\n",
       "      <td>14500</td>\n",
       "      <td>0</td>\n",
       "    </tr>\n",
       "    <tr>\n",
       "      <th>52</th>\n",
       "      <td>1</td>\n",
       "      <td>1</td>\n",
       "      <td>1</td>\n",
       "      <td>14500</td>\n",
       "      <td>0</td>\n",
       "    </tr>\n",
       "  </tbody>\n",
       "</table>\n",
       "</div>"
      ],
      "text/plain": [
       "    is_approved  is_issued  is_delay  approved_sum  payment_sum\n",
       "9             1          1         1         16000            0\n",
       "13            1          1         1         14000            0\n",
       "23            1          1         1         15000         3500\n",
       "44            1          1         1         14500            0\n",
       "52            1          1         1         14500            0"
      ]
     },
     "execution_count": 23,
     "metadata": {},
     "output_type": "execute_result"
    }
   ],
   "source": [
    "# кредит выдан и просрочен (отрицательное для нас значение)\n",
    "mask = (df_1.is_issued == 1) & (df_1.is_delay == 1)\n",
    "df_1[mask].head()"
   ]
  },
  {
   "cell_type": "markdown",
   "id": "da2b72d0",
   "metadata": {},
   "source": [
    "### Т.к. я не знаком с моделями, то сделаю предположение, что модели основаны на 2х моделях: 1я выдает ответ в виде одобрения (is_approved), 2я модель (или же определенные веса) совмещается с первой по определенному правилу и в итоге кредит либо выдается либо нет. Таким образом прихожу к выводу, что наше ключевое поле is_issued."
   ]
  },
  {
   "cell_type": "markdown",
   "id": "d5d5ae15",
   "metadata": {},
   "source": [
    "### Следующий момент. т.к. нас интересует событие: кредит выдан и не просрочен [(df_1.is_issued == 1) & (df_1.is_delay == 0)], то для того что бы корректно применять метрики - нужно что бы метки предсказанные и фактические имели одно и тоже значение при наступлении целевого события [(df_1.is_issued == 1) & (df_1.is_delay == 1)]. Нужно инвертировать признак is_delay. В таком случае если там стоит 1 - то кредит не просрочен, 0 - просрочен. "
   ]
  },
  {
   "cell_type": "code",
   "execution_count": 24,
   "id": "a500f931",
   "metadata": {},
   "outputs": [
    {
     "data": {
      "text/plain": [
       "0    1\n",
       "1    1\n",
       "2    1\n",
       "3    1\n",
       "4    1\n",
       "Name: is_delay, dtype: int64"
      ]
     },
     "execution_count": 24,
     "metadata": {},
     "output_type": "execute_result"
    }
   ],
   "source": [
    "df_1[\"is_delay\"] = df_1[\"is_delay\"].astype(\"boolean\")\n",
    "df_1[\"is_delay\"] = ~df_1[\"is_delay\"]\n",
    "df_1[\"is_delay\"] = df_1[\"is_delay\"].astype(\"int\")\n",
    "df_1.is_delay[:5]"
   ]
  },
  {
   "cell_type": "code",
   "execution_count": 25,
   "id": "70602f8c",
   "metadata": {},
   "outputs": [
    {
     "data": {
      "text/plain": [
       "0    1\n",
       "1    1\n",
       "2    0\n",
       "3    1\n",
       "4    1\n",
       "Name: is_delay, dtype: int64"
      ]
     },
     "execution_count": 25,
     "metadata": {},
     "output_type": "execute_result"
    }
   ],
   "source": [
    "df_2[\"is_delay\"] = df_2[\"is_delay\"].astype(\"boolean\")\n",
    "df_2[\"is_delay\"] = ~df_2[\"is_delay\"]\n",
    "df_2[\"is_delay\"] = df_2[\"is_delay\"].astype(\"int\")\n",
    "df_2.is_delay[:5]"
   ]
  },
  {
   "cell_type": "code",
   "execution_count": 26,
   "id": "2cc60a43",
   "metadata": {},
   "outputs": [
    {
     "name": "stdout",
     "output_type": "stream",
     "text": [
      "Модель1. ROC-AUC = 0.188\n",
      "Модель1. accuracy_score = 0.360\n",
      "Модель1. precision_score = 0.900\n",
      "Модель1. recall_score = 0.375\n",
      "Модель1. f1_score = 0.530\n",
      "Модель1. gini = -0.625\n",
      "Модель1. ks = 0.625\n"
     ]
    }
   ],
   "source": [
    "y_pred = df_1.is_issued\n",
    "y = df_1.is_delay\n",
    "\n",
    "roc_auc = roc_auc_score(y, y_pred)\n",
    "gini = 2 * roc_auc_score(y, y_pred) - 1\n",
    "\n",
    "mask_0 = df_1.is_delay == 0\n",
    "mask_1 = df_1.is_delay == 1\n",
    "ks = stats.ks_2samp(df_1[mask_0].is_issued, df_1[mask_1].is_issued).statistic\n",
    "print(\"Модель1. ROC-AUC = {:.3f}\".format(roc_auc))\n",
    "print(\"Модель1. accuracy_score = {:.3f}\".format(accuracy_score(y, y_pred)))\n",
    "print(\"Модель1. precision_score = {:.3f}\".format(precision_score(y, y_pred)))\n",
    "print(\"Модель1. recall_score = {:.3f}\".format(recall_score(y, y_pred)))\n",
    "print(\"Модель1. f1_score = {:.3f}\".format(f1_score(y, y_pred)))\n",
    "print(\"Модель1. gini = {:.3f}\".format(gini))\n",
    "print(\"Модель1. ks = {:.3f}\".format(ks))"
   ]
  },
  {
   "cell_type": "code",
   "execution_count": 27,
   "id": "b0fbe81d",
   "metadata": {},
   "outputs": [
    {
     "name": "stdout",
     "output_type": "stream",
     "text": [
      "Модель2. ROC-AUC = 0.195\n",
      "Модель2. accuracy_score = 0.366\n",
      "Модель2. precision_score = 0.860\n",
      "Модель2. recall_score = 0.390\n",
      "Модель2. f1_score = 0.536\n",
      "Модель1. gini = -0.610\n",
      "Модель1. ks = 0.610\n"
     ]
    }
   ],
   "source": [
    "y_pred = df_2.is_issued\n",
    "y = df_2.is_delay\n",
    "\n",
    "roc_auc = roc_auc_score(y, y_pred)\n",
    "gini = 2 * roc_auc_score(y, y_pred) - 1\n",
    "\n",
    "mask_0 = df_2.is_delay == 0\n",
    "mask_1 = df_2.is_delay == 1\n",
    "ks = stats.ks_2samp(df_2[mask_0].is_issued, df_2[mask_1].is_issued).statistic\n",
    "print(\"Модель2. ROC-AUC = {:.3f}\".format(roc_auc))\n",
    "print(\"Модель2. accuracy_score = {:.3f}\".format(accuracy_score(y, y_pred)))\n",
    "print(\"Модель2. precision_score = {:.3f}\".format(precision_score(y, y_pred)))\n",
    "print(\"Модель2. recall_score = {:.3f}\".format(recall_score(y, y_pred)))\n",
    "print(\"Модель2. f1_score = {:.3f}\".format(f1_score(y, y_pred)))\n",
    "print(\"Модель1. gini = {:.3f}\".format(gini))\n",
    "print(\"Модель1. ks = {:.3f}\".format(ks))"
   ]
  },
  {
   "cell_type": "markdown",
   "id": "1d7f369e",
   "metadata": {},
   "source": [
    "### Возможно я ошибся с интерпретацией фичей. Но по моим данным выходит, что в обоих моделях  нужно интерпретацию итоговых результатов изменить на  следующую (is_issued): 1 - кредит не выдан, 0 - кредит  выдан. is_delay - трактовка остается такая же : 1 - на просрочке, 0 - не на просрочке"
   ]
  },
  {
   "cell_type": "code",
   "execution_count": 28,
   "id": "dbb6269c",
   "metadata": {},
   "outputs": [
    {
     "data": {
      "text/plain": [
       "(213400, 5)"
      ]
     },
     "execution_count": 28,
     "metadata": {},
     "output_type": "execute_result"
    }
   ],
   "source": [
    "file_1 = \"model1.csv\"\n",
    "file_2 = \"model2.csv\"\n",
    "df_1 = pd.read_csv(file_1)\n",
    "df_2 = pd.read_csv(file_2)\n",
    "df_1.shape"
   ]
  },
  {
   "cell_type": "code",
   "execution_count": 29,
   "id": "c61501fd",
   "metadata": {},
   "outputs": [
    {
     "name": "stdout",
     "output_type": "stream",
     "text": [
      "Модель1. ROC-AUC = 0.812\n",
      "Модель1. accuracy_score = 0.640\n",
      "Модель1. precision_score = 0.100\n",
      "Модель1. recall_score = 1.000\n",
      "Модель1. f1_score = 0.182\n",
      "Модель1. gini = 0.625\n",
      "Модель1. ks = 0.625\n"
     ]
    }
   ],
   "source": [
    "y_pred = df_1.is_issued\n",
    "y = df_1.is_delay\n",
    "\n",
    "roc_auc = roc_auc_score(y, y_pred)\n",
    "gini = 2 * roc_auc_score(y, y_pred) - 1\n",
    "\n",
    "mask_0 = df_1.is_delay == 0\n",
    "mask_1 = df_1.is_delay == 1\n",
    "ks = stats.ks_2samp(df_1[mask_0].is_issued, df_1[mask_1].is_issued).statistic\n",
    "print(\"Модель1. ROC-AUC = {:.3f}\".format(roc_auc))\n",
    "print(\"Модель1. accuracy_score = {:.3f}\".format(accuracy_score(y, y_pred)))\n",
    "print(\"Модель1. precision_score = {:.3f}\".format(precision_score(y, y_pred)))\n",
    "print(\"Модель1. recall_score = {:.3f}\".format(recall_score(y, y_pred)))\n",
    "print(\"Модель1. f1_score = {:.3f}\".format(f1_score(y, y_pred)))\n",
    "print(\"Модель1. gini = {:.3f}\".format(gini))\n",
    "print(\"Модель1. ks = {:.3f}\".format(ks))"
   ]
  },
  {
   "cell_type": "code",
   "execution_count": 30,
   "id": "dd112f90",
   "metadata": {},
   "outputs": [
    {
     "name": "stdout",
     "output_type": "stream",
     "text": [
      "Модель2. ROC-AUC = 0.805\n",
      "Модель2. accuracy_score = 0.634\n",
      "Модель2. precision_score = 0.140\n",
      "Модель2. recall_score = 1.000\n",
      "Модель2. f1_score = 0.245\n",
      "Модель1. gini = 0.610\n",
      "Модель1. ks = 0.610\n"
     ]
    }
   ],
   "source": [
    "y_pred = df_2.is_issued\n",
    "y = df_2.is_delay\n",
    "\n",
    "roc_auc = roc_auc_score(y, y_pred)\n",
    "gini = 2 * roc_auc_score(y, y_pred) - 1\n",
    "\n",
    "mask_0 = df_2.is_delay == 0\n",
    "mask_1 = df_2.is_delay == 1\n",
    "ks = stats.ks_2samp(df_2[mask_0].is_issued, df_2[mask_1].is_issued).statistic\n",
    "print(\"Модель2. ROC-AUC = {:.3f}\".format(roc_auc))\n",
    "print(\"Модель2. accuracy_score = {:.3f}\".format(accuracy_score(y, y_pred)))\n",
    "print(\"Модель2. precision_score = {:.3f}\".format(precision_score(y, y_pred)))\n",
    "print(\"Модель2. recall_score = {:.3f}\".format(recall_score(y, y_pred)))\n",
    "print(\"Модель2. f1_score = {:.3f}\".format(f1_score(y, y_pred)))\n",
    "print(\"Модель1. gini = {:.3f}\".format(gini))\n",
    "print(\"Модель1. ks = {:.3f}\".format(ks))"
   ]
  },
  {
   "cell_type": "code",
   "execution_count": 31,
   "id": "f2876753",
   "metadata": {},
   "outputs": [],
   "source": [
    "def plot_roc_curve(y, y_pred, gini, ks):\n",
    "    fpr, tpr, thresholds = roc_curve(y, y_pred)\n",
    "    roc_auc = auc(fpr, tpr)\n",
    "\n",
    "    fig = plt.figure()\n",
    "    plt.plot(fpr, tpr, 'b--', label='%s AUC = %0.4f, GINI = %0.2f, KS = %s' % ('Model: ', roc_auc, gini, ks))\n",
    "    plt.plot([0, 1], [0, 1], 'k--')\n",
    "    plt.xlim([0.0, 1.0])\n",
    "    plt.ylim([0.0, 1.0])\n",
    "    plt.xlabel('False Positive Rate')\n",
    "    plt.ylabel('True Positive Rate')\n",
    "    plt.legend(loc=0, fontsize='small')\n",
    "    plt.show()"
   ]
  },
  {
   "cell_type": "code",
   "execution_count": 32,
   "id": "aa426a85",
   "metadata": {},
   "outputs": [
    {
     "data": {
      "image/png": "[encoded data removed]",
      "text/plain": [
       "<Figure size 432x288 with 1 Axes>"
      ]
     },
     "metadata": {
      "needs_background": "light"
     },
     "output_type": "display_data"
    }
   ],
   "source": [
    "plot_roc_curve(df_1.is_issued, df_1.is_delay, gini, ks)"
   ]
  },
  {
   "cell_type": "code",
   "execution_count": 33,
   "id": "5067a566",
   "metadata": {},
   "outputs": [
    {
     "data": {
      "image/png": "[encoded data removed]",
      "text/plain": [
       "<Figure size 432x288 with 1 Axes>"
      ]
     },
     "metadata": {
      "needs_background": "light"
     },
     "output_type": "display_data"
    }
   ],
   "source": [
    "plot_roc_curve(df_2.is_issued, df_2.is_delay, gini, ks)"
   ]
  },
  {
   "cell_type": "code",
   "execution_count": 34,
   "id": "bdd33b5f",
   "metadata": {},
   "outputs": [
    {
     "data": {
      "text/html": [
       "<div>\n",
       "<style scoped>\n",
       "    .dataframe tbody tr th:only-of-type {\n",
       "        vertical-align: middle;\n",
       "    }\n",
       "\n",
       "    .dataframe tbody tr th {\n",
       "        vertical-align: top;\n",
       "    }\n",
       "\n",
       "    .dataframe thead th {\n",
       "        text-align: right;\n",
       "    }\n",
       "</style>\n",
       "<table border=\"1\" class=\"dataframe\">\n",
       "  <thead>\n",
       "    <tr style=\"text-align: right;\">\n",
       "      <th></th>\n",
       "      <th>approved_sum</th>\n",
       "      <th>payment_sum</th>\n",
       "    </tr>\n",
       "  </thead>\n",
       "  <tbody>\n",
       "    <tr>\n",
       "      <th>0</th>\n",
       "      <td>17000</td>\n",
       "      <td>16000</td>\n",
       "    </tr>\n",
       "    <tr>\n",
       "      <th>4</th>\n",
       "      <td>19500</td>\n",
       "      <td>14500</td>\n",
       "    </tr>\n",
       "    <tr>\n",
       "      <th>8</th>\n",
       "      <td>12000</td>\n",
       "      <td>18500</td>\n",
       "    </tr>\n",
       "    <tr>\n",
       "      <th>14</th>\n",
       "      <td>15000</td>\n",
       "      <td>16500</td>\n",
       "    </tr>\n",
       "    <tr>\n",
       "      <th>18</th>\n",
       "      <td>14000</td>\n",
       "      <td>17500</td>\n",
       "    </tr>\n",
       "  </tbody>\n",
       "</table>\n",
       "</div>"
      ],
      "text/plain": [
       "    approved_sum  payment_sum\n",
       "0          17000        16000\n",
       "4          19500        14500\n",
       "8          12000        18500\n",
       "14         15000        16500\n",
       "18         14000        17500"
      ]
     },
     "execution_count": 34,
     "metadata": {},
     "output_type": "execute_result"
    }
   ],
   "source": [
    "# смотрим суммы тех записей где кредит выдан и не просрочен\n",
    "mask = (df_1.is_issued == 1) & (df_1.is_delay == 0)\n",
    "df_1.loc[mask, [\"approved_sum\", \"payment_sum\"]].head()"
   ]
  },
  {
   "cell_type": "code",
   "execution_count": 35,
   "id": "74463cc5",
   "metadata": {},
   "outputs": [
    {
     "data": {
      "text/html": [
       "<div>\n",
       "<style scoped>\n",
       "    .dataframe tbody tr th:only-of-type {\n",
       "        vertical-align: middle;\n",
       "    }\n",
       "\n",
       "    .dataframe tbody tr th {\n",
       "        vertical-align: top;\n",
       "    }\n",
       "\n",
       "    .dataframe thead th {\n",
       "        text-align: right;\n",
       "    }\n",
       "</style>\n",
       "<table border=\"1\" class=\"dataframe\">\n",
       "  <thead>\n",
       "    <tr style=\"text-align: right;\">\n",
       "      <th></th>\n",
       "      <th>is_approved</th>\n",
       "      <th>is_issued</th>\n",
       "      <th>is_delay</th>\n",
       "      <th>approved_sum</th>\n",
       "      <th>payment_sum</th>\n",
       "    </tr>\n",
       "  </thead>\n",
       "  <tbody>\n",
       "    <tr>\n",
       "      <th>0</th>\n",
       "      <td>1</td>\n",
       "      <td>1</td>\n",
       "      <td>0</td>\n",
       "      <td>17000</td>\n",
       "      <td>16000</td>\n",
       "    </tr>\n",
       "    <tr>\n",
       "      <th>4</th>\n",
       "      <td>1</td>\n",
       "      <td>1</td>\n",
       "      <td>0</td>\n",
       "      <td>19500</td>\n",
       "      <td>14500</td>\n",
       "    </tr>\n",
       "    <tr>\n",
       "      <th>8</th>\n",
       "      <td>1</td>\n",
       "      <td>1</td>\n",
       "      <td>0</td>\n",
       "      <td>12000</td>\n",
       "      <td>18500</td>\n",
       "    </tr>\n",
       "    <tr>\n",
       "      <th>14</th>\n",
       "      <td>1</td>\n",
       "      <td>1</td>\n",
       "      <td>0</td>\n",
       "      <td>15000</td>\n",
       "      <td>16500</td>\n",
       "    </tr>\n",
       "    <tr>\n",
       "      <th>18</th>\n",
       "      <td>1</td>\n",
       "      <td>1</td>\n",
       "      <td>0</td>\n",
       "      <td>14000</td>\n",
       "      <td>17500</td>\n",
       "    </tr>\n",
       "  </tbody>\n",
       "</table>\n",
       "</div>"
      ],
      "text/plain": [
       "    is_approved  is_issued  is_delay  approved_sum  payment_sum\n",
       "0             1          1         0         17000        16000\n",
       "4             1          1         0         19500        14500\n",
       "8             1          1         0         12000        18500\n",
       "14            1          1         0         15000        16500\n",
       "18            1          1         0         14000        17500"
      ]
     },
     "execution_count": 35,
     "metadata": {},
     "output_type": "execute_result"
    }
   ],
   "source": [
    "df_1[mask].head()"
   ]
  },
  {
   "cell_type": "code",
   "execution_count": 135,
   "id": "42c1307c",
   "metadata": {},
   "outputs": [
    {
     "data": {
      "text/html": [
       "<div>\n",
       "<style scoped>\n",
       "    .dataframe tbody tr th:only-of-type {\n",
       "        vertical-align: middle;\n",
       "    }\n",
       "\n",
       "    .dataframe tbody tr th {\n",
       "        vertical-align: top;\n",
       "    }\n",
       "\n",
       "    .dataframe thead th {\n",
       "        text-align: right;\n",
       "    }\n",
       "</style>\n",
       "<table border=\"1\" class=\"dataframe\">\n",
       "  <thead>\n",
       "    <tr style=\"text-align: right;\">\n",
       "      <th></th>\n",
       "      <th>is_approved</th>\n",
       "      <th>is_issued</th>\n",
       "      <th>is_delay</th>\n",
       "      <th>approved_sum</th>\n",
       "      <th>payment_sum</th>\n",
       "    </tr>\n",
       "  </thead>\n",
       "  <tbody>\n",
       "    <tr>\n",
       "      <th>9</th>\n",
       "      <td>1</td>\n",
       "      <td>1</td>\n",
       "      <td>1</td>\n",
       "      <td>16000</td>\n",
       "      <td>0</td>\n",
       "    </tr>\n",
       "    <tr>\n",
       "      <th>13</th>\n",
       "      <td>1</td>\n",
       "      <td>1</td>\n",
       "      <td>1</td>\n",
       "      <td>14000</td>\n",
       "      <td>0</td>\n",
       "    </tr>\n",
       "    <tr>\n",
       "      <th>23</th>\n",
       "      <td>1</td>\n",
       "      <td>1</td>\n",
       "      <td>1</td>\n",
       "      <td>15000</td>\n",
       "      <td>3500</td>\n",
       "    </tr>\n",
       "    <tr>\n",
       "      <th>44</th>\n",
       "      <td>1</td>\n",
       "      <td>1</td>\n",
       "      <td>1</td>\n",
       "      <td>14500</td>\n",
       "      <td>0</td>\n",
       "    </tr>\n",
       "    <tr>\n",
       "      <th>52</th>\n",
       "      <td>1</td>\n",
       "      <td>1</td>\n",
       "      <td>1</td>\n",
       "      <td>14500</td>\n",
       "      <td>0</td>\n",
       "    </tr>\n",
       "  </tbody>\n",
       "</table>\n",
       "</div>"
      ],
      "text/plain": [
       "    is_approved  is_issued  is_delay  approved_sum  payment_sum\n",
       "9             1          1         1         16000            0\n",
       "13            1          1         1         14000            0\n",
       "23            1          1         1         15000         3500\n",
       "44            1          1         1         14500            0\n",
       "52            1          1         1         14500            0"
      ]
     },
     "execution_count": 135,
     "metadata": {},
     "output_type": "execute_result"
    }
   ],
   "source": [
    "# смотрим суммы тех записей где кредит выдан и просрочен\n",
    "mask = (df_1.is_issued == 1) & (df_1.is_delay == 1)\n",
    "df_1[mask].head()"
   ]
  },
  {
   "cell_type": "code",
   "execution_count": 85,
   "id": "1235860d",
   "metadata": {},
   "outputs": [
    {
     "name": "stdout",
     "output_type": "stream",
     "text": [
      "0.5849083377304491\n"
     ]
    }
   ],
   "source": [
    "# смотрим суммы тех записей где кредит выдан и просрочен\n",
    "mask = (df_1.is_issued == 1) & (df_1.is_delay == 1)\n",
    "pr = df_1.loc[mask, \"payment_sum\"].sum()\n",
    "# смотрим суммы тех записей где кредит выдан и не просрочен\n",
    "mask = (df_1.is_issued == 1) & (df_1.is_delay == 0)\n",
    "pr_n = df_1.loc[mask, \"payment_sum\"].sum()\n",
    "print(pr/(pr + pr_n) * 100)"
   ]
  },
  {
   "cell_type": "code",
   "execution_count": 86,
   "id": "5209653f",
   "metadata": {},
   "outputs": [
    {
     "name": "stdout",
     "output_type": "stream",
     "text": [
      "0.7031526300693127\n"
     ]
    }
   ],
   "source": [
    "# смотрим суммы тех записей где кредит выдан и просрочен\n",
    "mask = (df_2.is_issued == 1) & (df_2.is_delay == 1)\n",
    "pr = df_2.loc[mask, \"payment_sum\"].sum()\n",
    "# смотрим суммы тех записей где кредит выдан и не просрочен\n",
    "mask = (df_2.is_issued == 1) & (df_2.is_delay == 0)\n",
    "pr_n = df_2.loc[mask, \"payment_sum\"].sum()\n",
    "print(pr/(pr + pr_n) * 100)"
   ]
  },
  {
   "cell_type": "code",
   "execution_count": 90,
   "id": "8f0bd4dd",
   "metadata": {},
   "outputs": [
    {
     "name": "stdout",
     "output_type": "stream",
     "text": [
      "1346.1832239925022\n"
     ]
    }
   ],
   "source": [
    "# считаем разницу между тем какая сумма была одобрена и сколько было внесено\n",
    "df_1[\"ap_pay\"] = df_1[\"approved_sum\"] - df_1[\"payment_sum\"]\n",
    "sum1 = df_1[\"ap_pay\"].sum()\n",
    "print(sum1 / shape_1) # нормируем"
   ]
  },
  {
   "cell_type": "code",
   "execution_count": 91,
   "id": "3aa0d8a8",
   "metadata": {},
   "outputs": [
    {
     "name": "stdout",
     "output_type": "stream",
     "text": [
      "1256.9186218697555\n"
     ]
    }
   ],
   "source": [
    "df_2[\"ap_pay\"] = df_2[\"approved_sum\"] - df_2[\"payment_sum\"]\n",
    "sum2 = df_2[\"ap_pay\"].sum()\n",
    "print(sum2 / shape_2)"
   ]
  },
  {
   "cell_type": "markdown",
   "id": "47b28f03",
   "metadata": {},
   "source": [
    "### На основе AUC-ROC, gini  и нормированной величиной \"условной\" прибыли я склоняюсь к модели №1"
   ]
  }
 ],
 "metadata": {
  "kernelspec": {
   "display_name": "Python 3",
   "language": "python",
   "name": "python3"
  },
  "language_info": {
   "codemirror_mode": {
    "name": "ipython",
    "version": 3
   },
   "file_extension": ".py",
   "mimetype": "text/x-python",
   "name": "python",
   "nbconvert_exporter": "python",
   "pygments_lexer": "ipython3",
   "version": "3.8.10"
  }
 },
 "nbformat": 4,
 "nbformat_minor": 5
}
